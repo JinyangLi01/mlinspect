{
 "cells": [
  {
   "cell_type": "markdown",
   "metadata": {},
   "source": [
    "# Task\n",
    "\n",
    "Operators like joins, selections and missing value imputaters can cause *data distribution issues*, which can heavily impact the performance of our model for specific demographic groups. Mlinspect helps with identifying such issues by offering a check that calculates histograms for sensitive groups in the data and verifying whether the histogram change is significant enough to alert the user. Thanks to our annotation propagation, we can deal with complex code involving things like nested sklearn pipelines and group memberships that are removed from the training data using projections.\n",
    "\n",
    "We want to find out if preprocessing operations in pipelines introduce bias and if so, which groups are effected.\n",
    "The pipeline we want to analyse in this task can be found using the path `os.path.join(str(get_project_root()), \"experiments\", \"user_interviews\", \"adult_simple_modified.py\")`. The senstive attributes we want to take a look at are `race` and `sex`. \n",
    "\n",
    "It is using a benchmark dataset frequently used in the algorithmic fairness literature. `Adult income` contains information about 33,000 individuals from the 1994 U.S. census, with sensitive attributes gender and race. The corresponding task is to predict whether the annual income of an individual exceeds $50,000. We took this existing data set and only modified it slightly by introducing an artificial issue which we will now try to find using mlinspect.\n",
    "\n",
    "\n",
    "The code of the pipeline:\n",
    "> ```python\n",
    "> \"\"\"\n",
    "> Adult income pipeline\n",
    "> \"\"\"\n",
    "> import os\n",
    "> import pandas as pd\n",
    "> from sklearn import compose, preprocessing, tree, pipeline\n",
    "> \n",
    "> from mlinspect.utils import get_project_root\n",
    "> \n",
    "> print('pipeline start')\n",
    "> \n",
    "> train_file_a = os.path.join(str(get_project_root()), \"experiments\", \"user_interviews\", \"adult_simple_train_a.csv\")\n",
    "> raw_data_a = pd.read_csv(train_file_a, na_values='?', index_col=0)\n",
    "> \n",
    "> train_file_b = os.path.join(str(get_project_root()), \"experiments\", \"user_interviews\", \"adult_simple_train_b.csv\")\n",
    "> raw_data_b = pd.read_csv(train_file_b, na_values='?', index_col=0)\n",
    "> \n",
    "> merged_raw_data = raw_data_a.merge(raw_data_b, on=\"id\")\n",
    "> \n",
    "> data = merged_raw_data.dropna()\n",
    "> \n",
    "> labels = preprocessing.label_binarize(data['income-per-year'], classes=['>50K', '<=50K'])\n",
    "> \n",
    "> column_transformer = compose.ColumnTransformer(transformers=[\n",
    ">     ('categorical', preprocessing.OneHotEncoder(handle_unknown='ignore'), ['education', 'workclass']),\n",
    ">     ('numeric', preprocessing.StandardScaler(), ['age', 'hours-per-week'])\n",
    "> ])\n",
    "> adult_income_pipeline = pipeline.Pipeline([\n",
    ">     ('features', column_transformer),\n",
    ">     ('classifier', tree.DecisionTreeClassifier())])\n",
    "> \n",
    "> adult_income_pipeline.fit(data, labels)\n",
    "> print('pipeline finished')\n",
    "> ```"
   ]
  },
  {
   "cell_type": "markdown",
   "metadata": {},
   "source": [
    "# Step 1/4: Add check and execute the pipeline\n",
    "\n",
    "The central entry point of mlinspect is the `PipelineInspector`. To use mlinspect, we use it and pass it the path to the runnable version of the example pipeline. Here, we have the example pipeline in a `.py` file. \n",
    "\n",
    "First, we define the check we want mlinspect to run. In this example, we only use `NoBiasIntroducedFor([\"col1\", \"col2\", ...])` to automatically check for significant changes in the distribution of sensitive demograhpic groups and compute the histograms.\n",
    "\n",
    "Then, we execute the pipeline. Mlinspect returns a `InspectorResult`, which, among other information, contains the output of our check. "
   ]
  },
  {
   "cell_type": "code",
   "execution_count": 12,
   "metadata": {},
   "outputs": [
    {
     "name": "stdout",
     "output_type": "stream",
     "text": [
      "0.7616951581533422\n"
     ]
    }
   ],
   "source": [
    "import os\n",
    "from mlinspect.utils import get_project_root\n",
    "\n",
    "from mlinspect import PipelineInspector\n",
    "from mlinspect.checks import NoBiasIntroducedFor\n",
    "from mlinspect.inspections import HistogramForColumns, IntersectionalLabelHistogramForColumns, RowLineage\n",
    "\n",
    "from example_pipelines import ADULT_DEMO_PY\n",
    "\n",
    "inspector_result = PipelineInspector\\\n",
    "    .on_pipeline_from_py_file(ADULT_DEMO_PY) \\\n",
    "    .add_check(NoBiasIntroducedFor([\"race\", \"sex\"])) \\\n",
    "    .add_required_inspection(IntersectionalLabelHistogramForColumns(['marital-status'], 'income-per-year')) \\\n",
    "    .add_required_inspection(RowLineage(5)) \\\n",
    "    .execute()\n",
    "\n",
    "check_results = inspector_result.check_to_check_results\n",
    "extracted_dag = inspector_result.dag"
   ]
  },
  {
   "cell_type": "code",
   "execution_count": null,
   "metadata": {},
   "outputs": [],
   "source": [
    "from IPython.display import Image\n",
    "from mlinspect.visualisation import save_fig_to_path\n",
    "\n",
    "filename = os.path.join(str(get_project_root()), \"demo\", \"feature_overview\", \"adult-demo.png\")\n",
    "save_fig_to_path(extracted_dag, filename)\n",
    "\n",
    "Image(filename=filename)"
   ]
  },
  {
   "cell_type": "markdown",
   "metadata": {},
   "source": [
    "# Step 2/4: Overview of the check results\n",
    "## Did our check find issues?\n",
    "\n",
    "Let us look at the `check_result` to see our some check failed. We do this using the mlinspect utlity function `check_results_as_data_frame(...)`. We see that an issue was found, so we have to investigate it."
   ]
  },
  {
   "cell_type": "code",
   "execution_count": null,
   "metadata": {},
   "outputs": [],
   "source": [
    "from IPython.display import display\n",
    "import pandas as pd\n",
    "pd.set_option('display.max_colwidth', None)\n",
    "\n",
    "check_result_df = PipelineInspector.check_results_as_data_frame(check_results)\n",
    "display(check_result_df)"
   ]
  },
  {
   "cell_type": "markdown",
   "metadata": {},
   "source": [
    "# Step 3/4: List of operations that could change the distribution \n",
    "\n",
    "As stated before, only some operations like selections, joins and missing value imputation can change the distribution. Our check already filtered all operators that can cause data distribution issues. We can use the mlinspect utility function `get_distribution_changes_overview_as_df(...)` to get an overview. The overview already tells us that mlinspect detected a potential issue caused by a JOIN involving the gender attribute. Note that the automatic issue detection from mlinspect is only as good as its configuration and should not be completely relied upon."
   ]
  },
  {
   "cell_type": "code",
   "execution_count": null,
   "metadata": {},
   "outputs": [],
   "source": [
    "from matplotlib import pyplot\n",
    "import collections\n",
    "import copy\n",
    "\n",
    "node_histograms = inspector_result.inspection_to_annotations[IntersectionalLabelHistogramForColumns(['race', 'sex'], 'income-per-year')]\n",
    "node_histograms = list(node_histograms.items())\n",
    "\n",
    "before = copy.deepcopy(node_histograms[0][1])\n",
    "after = copy.deepcopy(node_histograms[1][1])\n",
    "\n",
    "\n",
    "for label, after_histogram in after.items():\n",
    "    before_histogram = before[label]\n",
    "    for group, count in after_histogram.items():\n",
    "        before_histogram[group] -= count\n",
    "\n",
    "print(\"Incomplete records\")\n",
    "print(before)\n",
    "print(\"Complete records\")\n",
    "print(after)"
   ]
  },
  {
   "cell_type": "code",
   "execution_count": 10,
   "metadata": {},
   "outputs": [
    {
     "name": "stdout",
     "output_type": "stream",
     "text": [
      "Incomplete records\n",
      "13023\n"
     ]
    },
    {
     "data": {
      "image/png": "[encoded data removed]",
      "text/plain": [
       "<Figure size 864x288 with 2 Axes>"
      ]
     },
     "metadata": {
      "needs_background": "light"
     },
     "output_type": "display_data"
    },
    {
     "name": "stdout",
     "output_type": "stream",
     "text": [
      "Complete records\n",
      "9769\n"
     ]
    },
    {
     "data": {
      "image/png": "[encoded data removed]",
      "text/plain": [
       "<Figure size 864x288 with 2 Axes>"
      ]
     },
     "metadata": {
      "needs_background": "light"
     },
     "output_type": "display_data"
    }
   ],
   "source": [
    "print(\"Incomplete records\")\n",
    "sum_values = 0\n",
    "for index, label_with_histogram in enumerate(before.items()):\n",
    "    histogram = label_with_histogram[1]\n",
    "    values = histogram.values()\n",
    "    sum_values += sum(values)\n",
    "print(sum_values)\n",
    "\n",
    "label_with_histogram = list(before.items())[0]\n",
    "label = label_with_histogram[0]\n",
    "histogram = label_with_histogram[1]\n",
    "histogram = collections.OrderedDict(sorted(histogram.items()))\n",
    "ax1 = pyplot.subplot(1, 2, 1)\n",
    "keys = [str(key) for key in histogram.keys()] # Necessary because of null values\n",
    "values = histogram.values()\n",
    "# values = [value / sum_values for value in values]\n",
    "pyplot.bar(keys, values)\n",
    "pyplot.gca().set_title(label)\n",
    "pyplot.xticks(\n",
    "    rotation=45,\n",
    "    horizontalalignment='right',\n",
    ")\n",
    "# pyplot.yscale('log')\n",
    "\n",
    "label_with_histogram = list(before.items())[1]\n",
    "label = label_with_histogram[0]\n",
    "histogram = label_with_histogram[1]\n",
    "histogram = collections.OrderedDict(sorted(histogram.items()))\n",
    "ax2 = pyplot.subplot(1, 2, 2, sharey=ax1)\n",
    "keys = [str(key) for key in histogram.keys()] # Necessary because of null values\n",
    "values = histogram.values()\n",
    "# values = [value / sum_values for value in values]\n",
    "pyplot.bar(keys, values)\n",
    "pyplot.gca().set_title(label)\n",
    "pyplot.xticks(\n",
    "    rotation=45,\n",
    "    horizontalalignment='right',\n",
    ")\n",
    "# pyplot.yscale('log')\n",
    "fig = pyplot.gcf()\n",
    "fig.set_size_inches(12, 4)\n",
    "pyplot.show()\n",
    "pyplot.close()\n",
    "\n",
    "print(\"Complete records\")\n",
    "sum_values = 0\n",
    "for index, label_with_histogram in enumerate(after.items()):\n",
    "    histogram = label_with_histogram[1]\n",
    "    values = histogram.values()\n",
    "    sum_values += sum(values)\n",
    "print(sum_values)\n",
    "\n",
    "label_with_histogram = list(after.items())[0]\n",
    "label = label_with_histogram[0]\n",
    "histogram = label_with_histogram[1]\n",
    "histogram = collections.OrderedDict(sorted(histogram.items()))\n",
    "ax1 = pyplot.subplot(1, 2, 1)\n",
    "keys = [str(key) for key in histogram.keys()] # Necessary because of null values\n",
    "values = histogram.values()\n",
    "#values = [value / sum_values for value in values]\n",
    "pyplot.bar(keys, values)\n",
    "pyplot.gca().set_title(label)\n",
    "pyplot.xticks(\n",
    "    rotation=45,\n",
    "    horizontalalignment='right',\n",
    ")\n",
    "#pyplot.yscale('log')\n",
    "\n",
    "label_with_histogram = list(after.items())[1]\n",
    "label = label_with_histogram[0]\n",
    "histogram = label_with_histogram[1]\n",
    "histogram = collections.OrderedDict(sorted(histogram.items()))\n",
    "ax2 = pyplot.subplot(1, 2, 2, sharey=ax1)\n",
    "keys = [str(key) for key in histogram.keys()] # Necessary because of null values\n",
    "values = histogram.values()\n",
    "#values = [value / sum_values for value in values]\n",
    "pyplot.bar(keys, values)\n",
    "pyplot.gca().set_title(label)\n",
    "pyplot.xticks(\n",
    "    rotation=45,\n",
    "    horizontalalignment='right',\n",
    ")\n",
    "#pyplot.yscale('log')\n",
    "                             \n",
    "fig = pyplot.gcf()\n",
    "fig.set_size_inches(12, 4)\n",
    "pyplot.show()\n",
    "pyplot.close()"
   ]
  },
  {
   "cell_type": "code",
   "execution_count": 11,
   "metadata": {},
   "outputs": [
    {
     "data": {
      "text/html": [
       "<div>\n",
       "<style scoped>\n",
       "    .dataframe tbody tr th:only-of-type {\n",
       "        vertical-align: middle;\n",
       "    }\n",
       "\n",
       "    .dataframe tbody tr th {\n",
       "        vertical-align: top;\n",
       "    }\n",
       "\n",
       "    .dataframe thead th {\n",
       "        text-align: right;\n",
       "    }\n",
       "</style>\n",
       "<table border=\"1\" class=\"dataframe\">\n",
       "  <thead>\n",
       "    <tr style=\"text-align: right;\">\n",
       "      <th></th>\n",
       "      <th>operator_type</th>\n",
       "      <th>description</th>\n",
       "      <th>code_reference</th>\n",
       "      <th>source_code</th>\n",
       "      <th>module</th>\n",
       "      <th>'race' distribution change below the configured minimum test threshold</th>\n",
       "      <th>'sex' distribution change below the configured minimum test threshold</th>\n",
       "    </tr>\n",
       "  </thead>\n",
       "  <tbody>\n",
       "  </tbody>\n",
       "</table>\n",
       "</div>"
      ],
      "text/plain": [
       "Empty DataFrame\n",
       "Columns: [operator_type, description, code_reference, source_code, module, 'race' distribution change below the configured minimum test threshold, 'sex' distribution change below the configured minimum test threshold]\n",
       "Index: []"
      ]
     },
     "metadata": {},
     "output_type": "display_data"
    }
   ],
   "source": [
    "no_bias_check_result = check_results[NoBiasIntroducedFor([\"race\", \"sex\"])]\n",
    "\n",
    "distribution_changes_overview_df = NoBiasIntroducedFor.get_distribution_changes_overview_as_df(no_bias_check_result)\n",
    "display(distribution_changes_overview_df)\n",
    "\n",
    "dag_node_distribution_changes_list = list(no_bias_check_result.bias_distribution_change.items())"
   ]
  },
  {
   "cell_type": "markdown",
   "metadata": {},
   "source": [
    "# Step 4/4 Detailed Investigation\n",
    "\n",
    "Now that we know of the potential issue, we will take a look at the histograms before and after the JOIN. We can use `distribution_change.before_and_after_df` to look at the data in form of a `pandas.DataFrame` or use the mlinspect utility function `plot_distribution_change_histograms(...)` to plot the histograms. "
   ]
  },
  {
   "cell_type": "code",
   "execution_count": 6,
   "metadata": {},
   "outputs": [
    {
     "ename": "IndexError",
     "evalue": "list index out of range",
     "output_type": "error",
     "traceback": [
      "\u001b[0;31m---------------------------------------------------------------------------\u001b[0m",
      "\u001b[0;31mIndexError\u001b[0m                                Traceback (most recent call last)",
      "\u001b[0;32m<ipython-input-6-d9bb0ff5a4b1>\u001b[0m in \u001b[0;36m<module>\u001b[0;34m\u001b[0m\n\u001b[1;32m      1\u001b[0m \u001b[0;31m# Select the DagNode we want to look at by index\u001b[0m\u001b[0;34m\u001b[0m\u001b[0;34m\u001b[0m\u001b[0;34m\u001b[0m\u001b[0m\n\u001b[0;32m----> 2\u001b[0;31m \u001b[0mdag_node\u001b[0m\u001b[0;34m,\u001b[0m \u001b[0mnode_distribution_changes\u001b[0m \u001b[0;34m=\u001b[0m \u001b[0mdag_node_distribution_changes_list\u001b[0m\u001b[0;34m[\u001b[0m\u001b[0;36m0\u001b[0m\u001b[0;34m]\u001b[0m\u001b[0;34m\u001b[0m\u001b[0;34m\u001b[0m\u001b[0m\n\u001b[0m\u001b[1;32m      3\u001b[0m \u001b[0;34m\u001b[0m\u001b[0m\n\u001b[1;32m      4\u001b[0m \u001b[0;31m# Investige the changes\u001b[0m\u001b[0;34m\u001b[0m\u001b[0;34m\u001b[0m\u001b[0;34m\u001b[0m\u001b[0m\n\u001b[1;32m      5\u001b[0m \u001b[0mprint\u001b[0m\u001b[0;34m(\u001b[0m\u001b[0;34m\"\\033[1m{}: {}\\033[0m\"\u001b[0m\u001b[0;34m.\u001b[0m\u001b[0mformat\u001b[0m\u001b[0;34m(\u001b[0m\u001b[0mdag_node\u001b[0m\u001b[0;34m.\u001b[0m\u001b[0moperator_type\u001b[0m\u001b[0;34m,\u001b[0m \u001b[0mdag_node\u001b[0m\u001b[0;34m.\u001b[0m\u001b[0msource_code\u001b[0m\u001b[0;34m)\u001b[0m\u001b[0;34m)\u001b[0m\u001b[0;34m\u001b[0m\u001b[0;34m\u001b[0m\u001b[0m\n",
      "\u001b[0;31mIndexError\u001b[0m: list index out of range"
     ]
    }
   ],
   "source": [
    "# Select the DagNode we want to look at by index\n",
    "dag_node, node_distribution_changes = dag_node_distribution_changes_list[0]\n",
    "\n",
    "# Investige the changes\n",
    "print(\"\\033[1m{}: {}\\033[0m\".format(dag_node.operator_type, dag_node.source_code))\n",
    "for column, distribution_change in node_distribution_changes.items():\n",
    "    print(\"\")\n",
    "    print(\"\\033[1m Column '{}'\\033[0m, acceptable change: {}, min_relative_ratio_change: {}\".format(column, distribution_change.acceptable_change, distribution_change.min_relative_ratio_change))\n",
    "    display(distribution_change.before_and_after_df)\n",
    "    NoBiasIntroducedFor.plot_distribution_change_histograms(distribution_change)"
   ]
  },
  {
   "cell_type": "markdown",
   "metadata": {},
   "source": [
    "# Solution: Did we find operators that introduce bias? How did the distribution of demographic groups change?"
   ]
  },
  {
   "cell_type": "markdown",
   "metadata": {},
   "source": [
    "**My anser:** The join filters a lot of data points with `sex=Female`. This is because there are a lot of missing join keys in one of the datasets, but only for one of the two demograhpic groups in our example. As a workaround, we could, e.g., consider using an outer join instead of an inner join."
   ]
  },
  {
   "cell_type": "code",
   "execution_count": null,
   "metadata": {},
   "outputs": [],
   "source": [
    "import pandas as pd\n",
    "pd.set_option('display.max_colwidth', None)\n",
    "\n",
    "from mlinspect import OperatorType\n",
    "\n",
    "extracted_dag = inspector_result.dag\n",
    "inspection_results = inspector_result.inspection_to_annotations\n",
    "lineage_inspection_result = inspection_results[RowLineage(5)]\n",
    "\n",
    "relevant_nodes = [node for node in extracted_dag.nodes if node.operator_type in {OperatorType.DATA_SOURCE, OperatorType.GROUP_BY_AGG, OperatorType.CONCATENATION}]\n",
    "\n",
    "#print(lineage_inspection_result)\n",
    "for dag_node in relevant_nodes:\n",
    "    if dag_node in lineage_inspection_result: #and lineage_inspection_result[dag_node] is not None:\n",
    "        print(\"\\n\\033[1m{} ({})\\033[0m\\n{}\\n{}\".format(\n",
    "            dag_node.operator_type, dag_node.description, dag_node.source_code, dag_node.code_reference))\n",
    "        print(\"\\033[1mFirst output row:\\033[0m\")\n",
    "        display(lineage_inspection_result[dag_node].head(1))"
   ]
  },
  {
   "cell_type": "code",
   "execution_count": null,
   "metadata": {},
   "outputs": [],
   "source": []
  }
 ],
 "metadata": {
  "kernelspec": {
   "display_name": "Python 3",
   "language": "python",
   "name": "python3"
  },
  "language_info": {
   "codemirror_mode": {
    "name": "ipython",
    "version": 3
   },
   "file_extension": ".py",
   "mimetype": "text/x-python",
   "name": "python",
   "nbconvert_exporter": "python",
   "pygments_lexer": "ipython3",
   "version": "3.8.7"
  }
 },
 "nbformat": 4,
 "nbformat_minor": 4
}
