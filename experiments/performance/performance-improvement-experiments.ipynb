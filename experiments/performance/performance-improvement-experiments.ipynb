{
 "cells": [
  {
   "cell_type": "code",
   "execution_count": 12,
   "metadata": {},
   "outputs": [],
   "source": [
    "import pandas as pd\n",
    "import numpy as np\n",
    "from numpy.random import randint, shuffle\n",
    "import random\n",
    "\n",
    "def get_multiple_dfs(data_frame_rows):\n",
    "    \"\"\"\n",
    "    Get a complete code str that creates a DF with random value\n",
    "    \"\"\"\n",
    "    sizes_before_join = int(data_frame_rows * 1.1)\n",
    "    start_with_offset = int(data_frame_rows * 0.1)\n",
    "    end_with_offset = start_with_offset + sizes_before_join\n",
    "    assert sizes_before_join - start_with_offset == data_frame_rows\n",
    "\n",
    "    id_a = np.arange(sizes_before_join)\n",
    "    shuffle(id_a)\n",
    "    a = randint(0,100,size=(sizes_before_join))\n",
    "    b = randint(0,100,size=(sizes_before_join))\n",
    "    categories = ['cat_a', 'cat_b', 'cat_c']\n",
    "    group_col_1 = pd.Series(random.choices(categories, k=sizes_before_join))\n",
    "    group_col_2 = pd.Series(random.choices(categories, k=sizes_before_join))\n",
    "    group_col_3 = pd.Series(random.choices(categories, k=sizes_before_join))\n",
    "\n",
    "    id_b = np.arange(start_with_offset, end_with_offset)\n",
    "    shuffle(id_b)\n",
    "    c = randint(0,100,size=(sizes_before_join)) \n",
    "    d = randint(0,100,size=(sizes_before_join))\n",
    "\n",
    "    df_a = pd.DataFrame(zip(id_a, a, b, group_col_1, group_col_2, group_col_3), columns=['id', 'A', 'B', \n",
    "        'group_col_1', 'group_col_2', 'group_col_3'])\n",
    "    df_b = pd.DataFrame(zip(id_b, c, d), columns=['id', 'C', 'D'])\n",
    "        \n",
    "    return df_a, df_b"
   ]
  },
  {
   "cell_type": "code",
   "execution_count": 17,
   "metadata": {},
   "outputs": [],
   "source": [
    "df_a, df_b = get_multiple_dfs(1000000)"
   ]
  },
  {
   "cell_type": "code",
   "execution_count": 18,
   "metadata": {},
   "outputs": [
    {
     "name": "stdout",
     "output_type": "stream",
     "text": [
      "CPU times: user 313 ms, sys: 76.2 ms, total: 389 ms\n",
      "Wall time: 388 ms\n"
     ]
    }
   ],
   "source": [
    "%%time\n",
    "test = df_a.merge(df_b, on='id')"
   ]
  },
  {
   "cell_type": "code",
   "execution_count": null,
   "metadata": {},
   "outputs": [],
   "source": []
  }
 ],
 "metadata": {
  "kernelspec": {
   "display_name": "Python 3",
   "language": "python",
   "name": "python3"
  },
  "language_info": {
   "codemirror_mode": {
    "name": "ipython",
    "version": 3
   },
   "file_extension": ".py",
   "mimetype": "text/x-python",
   "name": "python",
   "nbconvert_exporter": "python",
   "pygments_lexer": "ipython3",
   "version": "3.8.7"
  }
 },
 "nbformat": 4,
 "nbformat_minor": 4
}
