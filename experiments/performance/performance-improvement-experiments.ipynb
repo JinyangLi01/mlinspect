{
 "cells": [
  {
   "cell_type": "code",
   "execution_count": 1,
   "metadata": {},
   "outputs": [],
   "source": [
    "import pandas as pd\n",
    "import numpy as np\n",
    "from numpy.random import randint, shuffle\n",
    "import random\n",
    "\n",
    "def get_multiple_dfs(data_frame_rows):\n",
    "    \"\"\"\n",
    "    Get a complete code str that creates a DF with random value\n",
    "    \"\"\"\n",
    "    sizes_before_join = int(data_frame_rows * 1.1)\n",
    "    start_with_offset = int(data_frame_rows * 0.1)\n",
    "    end_with_offset = start_with_offset + sizes_before_join\n",
    "    assert sizes_before_join - start_with_offset == data_frame_rows\n",
    "\n",
    "    id_a = np.arange(sizes_before_join)\n",
    "    shuffle(id_a)\n",
    "    a = randint(0,100,size=(sizes_before_join))\n",
    "    b = randint(0,100,size=(sizes_before_join))\n",
    "    categories = ['cat_a', 'cat_b', 'cat_c']\n",
    "    group_col_1 = pd.Series(random.choices(categories, k=sizes_before_join))\n",
    "    group_col_2 = pd.Series(random.choices(categories, k=sizes_before_join))\n",
    "    group_col_3 = pd.Series(random.choices(categories, k=sizes_before_join))\n",
    "\n",
    "    id_b = np.arange(start_with_offset, end_with_offset)\n",
    "    shuffle(id_b)\n",
    "    c = randint(0,100,size=(sizes_before_join)) \n",
    "    d = randint(0,100,size=(sizes_before_join))\n",
    "\n",
    "    df_a = pd.DataFrame(zip(id_a, a, b, group_col_1, group_col_2, group_col_3), columns=['id', 'A', 'B', \n",
    "        'group_col_1', 'group_col_2', 'group_col_3'])\n",
    "    df_b = pd.DataFrame(zip(id_b, c, d), columns=['id', 'C', 'D'])\n",
    "        \n",
    "    return df_a, df_b"
   ]
  },
  {
   "cell_type": "code",
   "execution_count": 2,
   "metadata": {},
   "outputs": [],
   "source": [
    "df_a, df_b = get_multiple_dfs(1000000)"
   ]
  },
  {
   "cell_type": "markdown",
   "metadata": {},
   "source": [
    "# Without instrumentation"
   ]
  },
  {
   "cell_type": "code",
   "execution_count": 3,
   "metadata": {},
   "outputs": [
    {
     "name": "stdout",
     "output_type": "stream",
     "text": [
      "CPU times: user 322 ms, sys: 70.6 ms, total: 392 ms\n",
      "Wall time: 392 ms\n"
     ]
    }
   ],
   "source": [
    "%%time\n",
    "test = df_a.merge(df_b, on='id')"
   ]
  },
  {
   "cell_type": "code",
   "execution_count": 4,
   "metadata": {},
   "outputs": [],
   "source": [
    "from mlinspect.inspections._lineage import LineageId, JoinLineageId\n",
    "\n",
    "lineage_id_list_a = [LineageId(0, row_id) for row_id in range(len(df_a))]\n",
    "lineage_ids_a = pd.DataFrame({\"RowLineage(10)\": pd.Series(lineage_id_list_a, dtype=\"object\")})\n",
    "lineage_id_list_b = [LineageId(0, row_id) for row_id in range(len(df_b))]\n",
    "lineage_ids_b = pd.DataFrame({\"RowLineage(10)\": pd.Series(lineage_id_list_b, dtype=\"object\")})"
   ]
  },
  {
   "cell_type": "code",
   "execution_count": 5,
   "metadata": {},
   "outputs": [],
   "source": [
    "from mlinspect.backends._pandas_backend import PandasBackend, execute_inspection_visits_join\n",
    "from mlinspect.backends._pandas_backend_frame_wrapper import MlinspectDataFrame\n",
    "from mlinspect.inspections import RowLineage\n",
    "from mlinspect.inspections._inspection_input import OperatorContext\n",
    "from mlinspect.instrumentation._dag_node import OperatorType, CodeReference\n",
    "\n",
    "pandas_backend = PandasBackend()\n",
    "pandas_backend.inspections = [RowLineage(10)]\n",
    "function_info = ('pandas.core.frame', 'merge')\n",
    "operator_context = OperatorContext(OperatorType.JOIN, function_info)\n",
    "code_reference = CodeReference(0,0,0,10)\n",
    "\n",
    "mlinspect_df_a = MlinspectDataFrame(df_a.copy())\n",
    "mlinspect_df_a.annotations = lineage_ids_a\n",
    "mlinspect_df_b = MlinspectDataFrame(df_b.copy())\n",
    "mlinspect_df_b.annotations = lineage_ids_b"
   ]
  },
  {
   "cell_type": "markdown",
   "metadata": {},
   "source": [
    "# With current instrumentation"
   ]
  },
  {
   "cell_type": "code",
   "execution_count": 6,
   "metadata": {},
   "outputs": [
    {
     "name": "stdout",
     "output_type": "stream",
     "text": [
      "CPU times: user 8.99 s, sys: 887 ms, total: 9.88 s\n",
      "Wall time: 9.92 s\n"
     ]
    }
   ],
   "source": [
    "%%time\n",
    "mlinspect_df_a['mlinspect_index_x'] = range(0, len(mlinspect_df_a))\n",
    "mlinspect_df_b['mlinspect_index_y'] = range(0, len(mlinspect_df_b))\n",
    "original_return_value = mlinspect_df_a.merge(mlinspect_df_b, on='id')\n",
    "\n",
    "\n",
    "return_value = execute_inspection_visits_join(pandas_backend, operator_context, code_reference,\n",
    "                                              mlinspect_df_a,\n",
    "                                              mlinspect_df_a.annotations,\n",
    "                                              mlinspect_df_b,\n",
    "                                              mlinspect_df_b.annotations,\n",
    "                                              original_return_value)\n",
    "\n",
    "# list(pandas_backend.dag_node_identifier_to_inspection_output.values())\n",
    "# return_value"
   ]
  },
  {
   "cell_type": "markdown",
   "metadata": {},
   "source": [
    "# Using apply, not a fast function"
   ]
  },
  {
   "cell_type": "code",
   "execution_count": 13,
   "metadata": {},
   "outputs": [
    {
     "name": "stdout",
     "output_type": "stream",
     "text": [
      "CPU times: user 22.8 s, sys: 425 ms, total: 23.2 s\n",
      "Wall time: 23.3 s\n"
     ]
    }
   ],
   "source": [
    "%%time\n",
    "df_a['lineage_left'] = lineage_ids_a\n",
    "df_b['lineage_right'] = lineage_ids_b\n",
    "\n",
    "join_result = df_a.merge(df_b, on='id')\n",
    "\n",
    "join_result['annotations'] = join_result.apply(lambda row: JoinLineageId([row.lineage_left, row.lineage_right]), axis=1)\n",
    "join_result.drop('lineage_left', inplace=True, axis=1)\n",
    "join_result.drop('lineage_right', inplace=True, axis=1)\n",
    "dag_annotation = join_result.head(10)\n",
    "annotation = join_result.pop('annotations')"
   ]
  },
  {
   "cell_type": "code",
   "execution_count": 14,
   "metadata": {},
   "outputs": [
    {
     "data": {
      "text/html": [
       "<div>\n",
       "<style scoped>\n",
       "    .dataframe tbody tr th:only-of-type {\n",
       "        vertical-align: middle;\n",
       "    }\n",
       "\n",
       "    .dataframe tbody tr th {\n",
       "        vertical-align: top;\n",
       "    }\n",
       "\n",
       "    .dataframe thead th {\n",
       "        text-align: right;\n",
       "    }\n",
       "</style>\n",
       "<table border=\"1\" class=\"dataframe\">\n",
       "  <thead>\n",
       "    <tr style=\"text-align: right;\">\n",
       "      <th></th>\n",
       "      <th>id</th>\n",
       "      <th>A</th>\n",
       "      <th>B</th>\n",
       "      <th>group_col_1</th>\n",
       "      <th>group_col_2</th>\n",
       "      <th>group_col_3</th>\n",
       "      <th>C</th>\n",
       "      <th>D</th>\n",
       "      <th>annotations</th>\n",
       "    </tr>\n",
       "  </thead>\n",
       "  <tbody>\n",
       "    <tr>\n",
       "      <th>0</th>\n",
       "      <td>505546</td>\n",
       "      <td>75</td>\n",
       "      <td>62</td>\n",
       "      <td>cat_a</td>\n",
       "      <td>cat_a</td>\n",
       "      <td>cat_a</td>\n",
       "      <td>3</td>\n",
       "      <td>22</td>\n",
       "      <td>JoinLineageId(lineage_ids=[LineageId(operator_...</td>\n",
       "    </tr>\n",
       "    <tr>\n",
       "      <th>1</th>\n",
       "      <td>1062648</td>\n",
       "      <td>15</td>\n",
       "      <td>50</td>\n",
       "      <td>cat_a</td>\n",
       "      <td>cat_a</td>\n",
       "      <td>cat_c</td>\n",
       "      <td>13</td>\n",
       "      <td>58</td>\n",
       "      <td>JoinLineageId(lineage_ids=[LineageId(operator_...</td>\n",
       "    </tr>\n",
       "    <tr>\n",
       "      <th>2</th>\n",
       "      <td>1035890</td>\n",
       "      <td>65</td>\n",
       "      <td>10</td>\n",
       "      <td>cat_c</td>\n",
       "      <td>cat_c</td>\n",
       "      <td>cat_c</td>\n",
       "      <td>86</td>\n",
       "      <td>0</td>\n",
       "      <td>JoinLineageId(lineage_ids=[LineageId(operator_...</td>\n",
       "    </tr>\n",
       "    <tr>\n",
       "      <th>3</th>\n",
       "      <td>261211</td>\n",
       "      <td>98</td>\n",
       "      <td>32</td>\n",
       "      <td>cat_c</td>\n",
       "      <td>cat_c</td>\n",
       "      <td>cat_a</td>\n",
       "      <td>26</td>\n",
       "      <td>36</td>\n",
       "      <td>JoinLineageId(lineage_ids=[LineageId(operator_...</td>\n",
       "    </tr>\n",
       "    <tr>\n",
       "      <th>4</th>\n",
       "      <td>762999</td>\n",
       "      <td>61</td>\n",
       "      <td>88</td>\n",
       "      <td>cat_c</td>\n",
       "      <td>cat_b</td>\n",
       "      <td>cat_c</td>\n",
       "      <td>18</td>\n",
       "      <td>37</td>\n",
       "      <td>JoinLineageId(lineage_ids=[LineageId(operator_...</td>\n",
       "    </tr>\n",
       "    <tr>\n",
       "      <th>5</th>\n",
       "      <td>662830</td>\n",
       "      <td>45</td>\n",
       "      <td>23</td>\n",
       "      <td>cat_c</td>\n",
       "      <td>cat_a</td>\n",
       "      <td>cat_c</td>\n",
       "      <td>23</td>\n",
       "      <td>58</td>\n",
       "      <td>JoinLineageId(lineage_ids=[LineageId(operator_...</td>\n",
       "    </tr>\n",
       "    <tr>\n",
       "      <th>6</th>\n",
       "      <td>496724</td>\n",
       "      <td>75</td>\n",
       "      <td>91</td>\n",
       "      <td>cat_c</td>\n",
       "      <td>cat_c</td>\n",
       "      <td>cat_a</td>\n",
       "      <td>14</td>\n",
       "      <td>29</td>\n",
       "      <td>JoinLineageId(lineage_ids=[LineageId(operator_...</td>\n",
       "    </tr>\n",
       "    <tr>\n",
       "      <th>7</th>\n",
       "      <td>192244</td>\n",
       "      <td>59</td>\n",
       "      <td>94</td>\n",
       "      <td>cat_c</td>\n",
       "      <td>cat_c</td>\n",
       "      <td>cat_b</td>\n",
       "      <td>49</td>\n",
       "      <td>1</td>\n",
       "      <td>JoinLineageId(lineage_ids=[LineageId(operator_...</td>\n",
       "    </tr>\n",
       "    <tr>\n",
       "      <th>8</th>\n",
       "      <td>147918</td>\n",
       "      <td>91</td>\n",
       "      <td>34</td>\n",
       "      <td>cat_a</td>\n",
       "      <td>cat_b</td>\n",
       "      <td>cat_b</td>\n",
       "      <td>9</td>\n",
       "      <td>90</td>\n",
       "      <td>JoinLineageId(lineage_ids=[LineageId(operator_...</td>\n",
       "    </tr>\n",
       "    <tr>\n",
       "      <th>9</th>\n",
       "      <td>545428</td>\n",
       "      <td>47</td>\n",
       "      <td>74</td>\n",
       "      <td>cat_a</td>\n",
       "      <td>cat_a</td>\n",
       "      <td>cat_b</td>\n",
       "      <td>73</td>\n",
       "      <td>80</td>\n",
       "      <td>JoinLineageId(lineage_ids=[LineageId(operator_...</td>\n",
       "    </tr>\n",
       "  </tbody>\n",
       "</table>\n",
       "</div>"
      ],
      "text/plain": [
       "        id   A   B group_col_1 group_col_2 group_col_3   C   D  \\\n",
       "0   505546  75  62       cat_a       cat_a       cat_a   3  22   \n",
       "1  1062648  15  50       cat_a       cat_a       cat_c  13  58   \n",
       "2  1035890  65  10       cat_c       cat_c       cat_c  86   0   \n",
       "3   261211  98  32       cat_c       cat_c       cat_a  26  36   \n",
       "4   762999  61  88       cat_c       cat_b       cat_c  18  37   \n",
       "5   662830  45  23       cat_c       cat_a       cat_c  23  58   \n",
       "6   496724  75  91       cat_c       cat_c       cat_a  14  29   \n",
       "7   192244  59  94       cat_c       cat_c       cat_b  49   1   \n",
       "8   147918  91  34       cat_a       cat_b       cat_b   9  90   \n",
       "9   545428  47  74       cat_a       cat_a       cat_b  73  80   \n",
       "\n",
       "                                         annotations  \n",
       "0  JoinLineageId(lineage_ids=[LineageId(operator_...  \n",
       "1  JoinLineageId(lineage_ids=[LineageId(operator_...  \n",
       "2  JoinLineageId(lineage_ids=[LineageId(operator_...  \n",
       "3  JoinLineageId(lineage_ids=[LineageId(operator_...  \n",
       "4  JoinLineageId(lineage_ids=[LineageId(operator_...  \n",
       "5  JoinLineageId(lineage_ids=[LineageId(operator_...  \n",
       "6  JoinLineageId(lineage_ids=[LineageId(operator_...  \n",
       "7  JoinLineageId(lineage_ids=[LineageId(operator_...  \n",
       "8  JoinLineageId(lineage_ids=[LineageId(operator_...  \n",
       "9  JoinLineageId(lineage_ids=[LineageId(operator_...  "
      ]
     },
     "execution_count": 14,
     "metadata": {},
     "output_type": "execute_result"
    }
   ],
   "source": [
    "dag_annotation"
   ]
  },
  {
   "cell_type": "code",
   "execution_count": null,
   "metadata": {},
   "outputs": [],
   "source": []
  }
 ],
 "metadata": {
  "kernelspec": {
   "display_name": "Python 3",
   "language": "python",
   "name": "python3"
  },
  "language_info": {
   "codemirror_mode": {
    "name": "ipython",
    "version": 3
   },
   "file_extension": ".py",
   "mimetype": "text/x-python",
   "name": "python",
   "nbconvert_exporter": "python",
   "pygments_lexer": "ipython3",
   "version": "3.8.7"
  }
 },
 "nbformat": 4,
 "nbformat_minor": 4
}
