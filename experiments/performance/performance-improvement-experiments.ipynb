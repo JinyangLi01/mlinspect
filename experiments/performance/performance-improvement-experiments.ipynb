{
 "cells": [
  {
   "cell_type": "code",
   "execution_count": 1,
   "metadata": {},
   "outputs": [],
   "source": [
    "import pandas as pd\n",
    "import numpy as np\n",
    "from numpy.random import randint, shuffle\n",
    "import random\n",
    "\n",
    "def get_multiple_dfs(data_frame_rows):\n",
    "    \"\"\"\n",
    "    Get a complete code str that creates a DF with random value\n",
    "    \"\"\"\n",
    "    sizes_before_join = int(data_frame_rows * 1.1)\n",
    "    start_with_offset = int(data_frame_rows * 0.1)\n",
    "    end_with_offset = start_with_offset + sizes_before_join\n",
    "    assert sizes_before_join - start_with_offset == data_frame_rows\n",
    "\n",
    "    id_a = np.arange(sizes_before_join)\n",
    "    shuffle(id_a)\n",
    "    a = randint(0,100,size=(sizes_before_join))\n",
    "    b = randint(0,100,size=(sizes_before_join))\n",
    "    categories = ['cat_a', 'cat_b', 'cat_c']\n",
    "    group_col_1 = pd.Series(random.choices(categories, k=sizes_before_join))\n",
    "    group_col_2 = pd.Series(random.choices(categories, k=sizes_before_join))\n",
    "    group_col_3 = pd.Series(random.choices(categories, k=sizes_before_join))\n",
    "\n",
    "    id_b = np.arange(start_with_offset, end_with_offset)\n",
    "    shuffle(id_b)\n",
    "    c = randint(0,100,size=(sizes_before_join)) \n",
    "    d = randint(0,100,size=(sizes_before_join))\n",
    "\n",
    "    df_a = pd.DataFrame(zip(id_a, a, b, group_col_1, group_col_2, group_col_3), columns=['id', 'A', 'B', \n",
    "        'group_col_1', 'group_col_2', 'group_col_3'])\n",
    "    df_b = pd.DataFrame(zip(id_b, c, d), columns=['id', 'C', 'D'])\n",
    "        \n",
    "    return df_a, df_b"
   ]
  },
  {
   "cell_type": "code",
   "execution_count": 2,
   "metadata": {},
   "outputs": [],
   "source": [
    "df_a, df_b = get_multiple_dfs(3000000)"
   ]
  },
  {
   "cell_type": "markdown",
   "metadata": {},
   "source": [
    "# Without instrumentation"
   ]
  },
  {
   "cell_type": "code",
   "execution_count": 3,
   "metadata": {},
   "outputs": [
    {
     "name": "stdout",
     "output_type": "stream",
     "text": [
      "CPU times: user 1.46 s, sys: 371 ms, total: 1.83 s\n",
      "Wall time: 1.84 s\n"
     ]
    }
   ],
   "source": [
    "%%time\n",
    "test = df_a.merge(df_b, on='id')"
   ]
  },
  {
   "cell_type": "markdown",
   "metadata": {},
   "source": [
    "# Without instrumentation, with duckdb"
   ]
  },
  {
   "cell_type": "code",
   "execution_count": 4,
   "metadata": {},
   "outputs": [],
   "source": [
    "import duckdb\n",
    "con = duckdb.connect(database=':memory:', read_only=False)"
   ]
  },
  {
   "cell_type": "code",
   "execution_count": 5,
   "metadata": {},
   "outputs": [
    {
     "name": "stdout",
     "output_type": "stream",
     "text": [
      "CPU times: user 1.36 s, sys: 377 ms, total: 1.73 s\n",
      "Wall time: 1.73 s\n"
     ]
    }
   ],
   "source": [
    "%%time\n",
    "con.register('df_a', df_a)\n",
    "con.register('df_b', df_b)\n",
    "test = con.execute('SELECT * FROM df_a JOIN df_b ON df_a.id = df_b.id').fetchdf()"
   ]
  },
  {
   "cell_type": "code",
   "execution_count": 6,
   "metadata": {},
   "outputs": [],
   "source": [
    "from mlinspect.inspections._lineage import LineageId, JoinLineageId\n",
    "\n",
    "lineage_id_list_a = [LineageId(0, row_id) for row_id in range(len(df_a))]\n",
    "lineage_ids_a = pd.DataFrame({\"RowLineage(10)\": pd.Series(lineage_id_list_a, dtype=\"object\")})\n",
    "lineage_id_list_b = [LineageId(0, row_id) for row_id in range(len(df_b))]\n",
    "lineage_ids_b = pd.DataFrame({\"RowLineage(10)\": pd.Series(lineage_id_list_b, dtype=\"object\")})"
   ]
  },
  {
   "cell_type": "code",
   "execution_count": 7,
   "metadata": {},
   "outputs": [],
   "source": [
    "from mlinspect.backends._pandas_backend import PandasBackend, execute_inspection_visits_join\n",
    "from mlinspect.backends._pandas_backend_frame_wrapper import MlinspectDataFrame\n",
    "from mlinspect.inspections import RowLineage\n",
    "from mlinspect.inspections._inspection_input import OperatorContext\n",
    "from mlinspect.instrumentation._dag_node import OperatorType, CodeReference\n",
    "\n",
    "pandas_backend = PandasBackend()\n",
    "pandas_backend.inspections = [RowLineage(10)]\n",
    "function_info = ('pandas.core.frame', 'merge')\n",
    "operator_context = OperatorContext(OperatorType.JOIN, function_info)\n",
    "code_reference = CodeReference(0,0,0,10)\n",
    "\n",
    "mlinspect_df_a = MlinspectDataFrame(df_a.copy())\n",
    "mlinspect_df_a.annotations = lineage_ids_a\n",
    "mlinspect_df_b = MlinspectDataFrame(df_b.copy())\n",
    "mlinspect_df_b.annotations = lineage_ids_b"
   ]
  },
  {
   "cell_type": "markdown",
   "metadata": {},
   "source": [
    "# With current instrumentation"
   ]
  },
  {
   "cell_type": "code",
   "execution_count": 8,
   "metadata": {},
   "outputs": [
    {
     "name": "stdout",
     "output_type": "stream",
     "text": [
      "CPU times: user 26.9 s, sys: 2.97 s, total: 29.9 s\n",
      "Wall time: 30 s\n"
     ]
    }
   ],
   "source": [
    "%%time\n",
    "mlinspect_df_a['mlinspect_index_x'] = range(0, len(mlinspect_df_a))\n",
    "mlinspect_df_b['mlinspect_index_y'] = range(0, len(mlinspect_df_b))\n",
    "original_return_value = mlinspect_df_a.merge(mlinspect_df_b, on='id')\n",
    "\n",
    "\n",
    "return_value = execute_inspection_visits_join(pandas_backend, operator_context, code_reference,\n",
    "                                              mlinspect_df_a,\n",
    "                                              mlinspect_df_a.annotations,\n",
    "                                              mlinspect_df_b,\n",
    "                                              mlinspect_df_b.annotations,\n",
    "                                              original_return_value)\n",
    "\n",
    "# list(pandas_backend.dag_node_identifier_to_inspection_output.values())\n",
    "# return_value.annotations"
   ]
  },
  {
   "cell_type": "markdown",
   "metadata": {},
   "source": [
    "# Calculating directly using apply (apply is not a fast function)"
   ]
  },
  {
   "cell_type": "code",
   "execution_count": 9,
   "metadata": {},
   "outputs": [
    {
     "name": "stdout",
     "output_type": "stream",
     "text": [
      "CPU times: user 1min 6s, sys: 1.56 s, total: 1min 8s\n",
      "Wall time: 1min 8s\n"
     ]
    }
   ],
   "source": [
    "%%time\n",
    "df_a['lineage_left'] = lineage_ids_a\n",
    "df_b['lineage_right'] = lineage_ids_b\n",
    "\n",
    "join_result = df_a.merge(df_b, on='id')\n",
    "\n",
    "join_result['annotations'] = join_result.apply(lambda row: JoinLineageId([row.lineage_left, row.lineage_right]), axis=1)\n",
    "join_result.drop('lineage_left', inplace=True, axis=1)\n",
    "join_result.drop('lineage_right', inplace=True, axis=1)\n",
    "dag_annotation = join_result.head(10)\n",
    "annotation = join_result.pop('annotations')\n",
    "\n",
    "# dag_annotation\n",
    "# annotation"
   ]
  },
  {
   "cell_type": "code",
   "execution_count": 10,
   "metadata": {},
   "outputs": [],
   "source": [
    "def lineage_iter(lineage_left, lineage_right):\n",
    "    zipped_lineage = zip(lineage_left, lineage_right)\n",
    "    join_ids_iter = map(lambda input_tuple: JoinLineageId([*input_tuple]), zipped_lineage)\n",
    "    return list(join_ids_iter)"
   ]
  },
  {
   "cell_type": "markdown",
   "metadata": {},
   "source": [
    "# Calculating directly using zip and map on numpy arrays"
   ]
  },
  {
   "cell_type": "code",
   "execution_count": 11,
   "metadata": {},
   "outputs": [
    {
     "name": "stdout",
     "output_type": "stream",
     "text": [
      "CPU times: user 15.2 s, sys: 996 ms, total: 16.2 s\n",
      "Wall time: 16.2 s\n"
     ]
    }
   ],
   "source": [
    "%%time\n",
    "df_a['lineage_left'] = lineage_ids_a\n",
    "df_b['lineage_right'] = lineage_ids_b\n",
    "\n",
    "join_result = df_a.merge(df_b, on='id')\n",
    "\n",
    "join_result['annotations'] = lineage_iter(join_result['lineage_left'].values, join_result['lineage_right'].values)\n",
    "join_result.drop('lineage_left', inplace=True, axis=1)\n",
    "join_result.drop('lineage_right', inplace=True, axis=1)\n",
    "dag_annotation = join_result.head(10)\n",
    "annotation = join_result.pop('annotations')\n",
    "\n",
    "# dag_annotation\n",
    "# annotation"
   ]
  },
  {
   "cell_type": "code",
   "execution_count": 12,
   "metadata": {},
   "outputs": [],
   "source": [
    "def lineage_row_compute(lineage_left, lineage_right):\n",
    "    return JoinLineageId([lineage_left, lineage_right])"
   ]
  },
  {
   "cell_type": "markdown",
   "metadata": {},
   "source": [
    "# Np vectorize is a bit faster"
   ]
  },
  {
   "cell_type": "code",
   "execution_count": 13,
   "metadata": {},
   "outputs": [
    {
     "name": "stdout",
     "output_type": "stream",
     "text": [
      "CPU times: user 11.2 s, sys: 782 ms, total: 12 s\n",
      "Wall time: 12 s\n"
     ]
    }
   ],
   "source": [
    "%%time\n",
    "df_a['lineage_left'] = lineage_ids_a\n",
    "df_b['lineage_right'] = lineage_ids_b\n",
    "\n",
    "join_result = df_a.merge(df_b, on='id')\n",
    "\n",
    "lineage_vectorized = np.vectorize(lineage_row_compute)\n",
    "join_result['annotations'] = lineage_vectorized(join_result['lineage_left'].values, join_result['lineage_right'].values)\n",
    "join_result.drop('lineage_left', inplace=True, axis=1)\n",
    "join_result.drop('lineage_right', inplace=True, axis=1)\n",
    "dag_annotation = join_result.head(10)\n",
    "annotation = join_result.pop('annotations')\n",
    "\n",
    "# dag_annotation\n",
    "# annotation"
   ]
  },
  {
   "cell_type": "code",
   "execution_count": 14,
   "metadata": {},
   "outputs": [],
   "source": [
    "from mlinspect.inspections._lineage import LineageId, JoinLineageId\n",
    "\n",
    "lineage_id_list_a = [\"LineageId(0, \" + str(row_id) + \")\" for row_id in range(len(df_a))]\n",
    "lineage_ids_a = pd.DataFrame({\"RowLineage(10)\": pd.Series(lineage_id_list_a, dtype=\"object\")})\n",
    "lineage_id_list_b = [\"LineageId(1, \" + str(row_id) + \")\" for row_id in range(len(df_a))]\n",
    "lineage_ids_b = pd.DataFrame({\"RowLineage(10)\": pd.Series(lineage_id_list_b, dtype=\"object\")})"
   ]
  },
  {
   "cell_type": "markdown",
   "metadata": {},
   "source": [
    "# Calculating directly by using strings for the lineage id, this can likely be done much smarter using uints"
   ]
  },
  {
   "cell_type": "code",
   "execution_count": 15,
   "metadata": {},
   "outputs": [
    {
     "name": "stdout",
     "output_type": "stream",
     "text": [
      "CPU times: user 6.16 s, sys: 1.16 s, total: 7.32 s\n",
      "Wall time: 7.35 s\n"
     ]
    }
   ],
   "source": [
    "%%time\n",
    "df_a['lineage_left'] = lineage_ids_a\n",
    "df_b['lineage_right'] = lineage_ids_b\n",
    "\n",
    "join_result = df_a.merge(df_b, on='id')\n",
    "\n",
    "join_result['annotations'] = \"JoinLineageId([\" + join_result[\"lineage_left\"] + \", \" + join_result[\"lineage_right\"] + \"])\"\n",
    "join_result.drop('lineage_left', inplace=True, axis=1)\n",
    "join_result.drop('lineage_right', inplace=True, axis=1)\n",
    "dag_annotation = join_result.head(10)\n",
    "annotation = join_result.pop('annotations')\n",
    "\n",
    "# dag_annotation\n",
    "# annotation"
   ]
  },
  {
   "cell_type": "markdown",
   "metadata": {},
   "source": [
    "# Calculating directly by using strings with duckdb (still WIP)"
   ]
  },
  {
   "cell_type": "code",
   "execution_count": 16,
   "metadata": {},
   "outputs": [
    {
     "name": "stdout",
     "output_type": "stream",
     "text": [
      "CPU times: user 3.35 s, sys: 684 ms, total: 4.04 s\n",
      "Wall time: 4.1 s\n"
     ]
    }
   ],
   "source": [
    "%%time\n",
    "\n",
    "df_a['lineage_left'] = lineage_ids_a\n",
    "df_b['lineage_right'] = lineage_ids_b\n",
    "\n",
    "con.register('df_a', df_a)\n",
    "con.register('df_b', df_b)\n",
    "\n",
    "join_result = con.execute(\"SELECT *, 'JoinLineageID([' || df_a.lineage_left || ', ' || df_b.lineage_right || '])' as annotations FROM df_a JOIN df_b ON df_a.id = df_b.id\").fetchdf()\n",
    "dag_annotation = join_result.head(10)\n",
    "annotation = join_result.pop('annotations')\n",
    "\n",
    "# dag_annotation\n",
    "# annotation"
   ]
  },
  {
   "cell_type": "markdown",
   "metadata": {},
   "source": [
    "# Todos\n",
    "\n",
    "* Think about alternative lineage representation not using custom Python objects \n",
    "* Then try to find a pandas/numpy way to use this to benefit from vectorization\n",
    "* Test how fast this can be executed in other ways, e.g., with DuckDB"
   ]
  },
  {
   "cell_type": "markdown",
   "metadata": {},
   "source": [
    "# Learnings\n",
    "* Don't let inspections use arbitrary data types for the inspection annotations\n",
    "* It seems like the current performance overhead mainly comes from the end of the pipeline, not the earlier parts with pandas\n",
    "* In the current implementation, we probably should try to use numpy arrays directly that back the pd columns instead of the modfied itertuples stuff"
   ]
  },
  {
   "cell_type": "code",
   "execution_count": null,
   "metadata": {},
   "outputs": [],
   "source": []
  }
 ],
 "metadata": {
  "kernelspec": {
   "display_name": "Python 3",
   "language": "python",
   "name": "python3"
  },
  "language_info": {
   "codemirror_mode": {
    "name": "ipython",
    "version": 3
   },
   "file_extension": ".py",
   "mimetype": "text/x-python",
   "name": "python",
   "nbconvert_exporter": "python",
   "pygments_lexer": "ipython3",
   "version": "3.8.7"
  }
 },
 "nbformat": 4,
 "nbformat_minor": 4
}
