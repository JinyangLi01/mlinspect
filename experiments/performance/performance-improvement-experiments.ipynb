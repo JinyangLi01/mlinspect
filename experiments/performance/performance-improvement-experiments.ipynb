{
 "cells": [
  {
   "cell_type": "code",
   "execution_count": 1,
   "metadata": {},
   "outputs": [],
   "source": [
    "import pandas as pd\n",
    "import numpy as np\n",
    "from numpy.random import randint, shuffle\n",
    "import random\n",
    "\n",
    "def get_multiple_dfs(data_frame_rows):\n",
    "    \"\"\"\n",
    "    Get a complete code str that creates a DF with random value\n",
    "    \"\"\"\n",
    "    sizes_before_join = int(data_frame_rows * 1.1)\n",
    "    start_with_offset = int(data_frame_rows * 0.1)\n",
    "    end_with_offset = start_with_offset + sizes_before_join\n",
    "    assert sizes_before_join - start_with_offset == data_frame_rows\n",
    "\n",
    "    id_a = np.arange(sizes_before_join)\n",
    "    shuffle(id_a)\n",
    "    a = randint(0,100,size=(sizes_before_join))\n",
    "    b = randint(0,100,size=(sizes_before_join))\n",
    "    categories = ['cat_a', 'cat_b', 'cat_c']\n",
    "    group_col_1 = pd.Series(random.choices(categories, k=sizes_before_join))\n",
    "    group_col_2 = pd.Series(random.choices(categories, k=sizes_before_join))\n",
    "    group_col_3 = pd.Series(random.choices(categories, k=sizes_before_join))\n",
    "\n",
    "    id_b = np.arange(start_with_offset, end_with_offset)\n",
    "    shuffle(id_b)\n",
    "    c = randint(0,100,size=(sizes_before_join)) \n",
    "    d = randint(0,100,size=(sizes_before_join))\n",
    "\n",
    "    df_a = pd.DataFrame(zip(id_a, a, b, group_col_1, group_col_2, group_col_3), columns=['id', 'A', 'B', \n",
    "        'group_col_1', 'group_col_2', 'group_col_3'])\n",
    "    df_b = pd.DataFrame(zip(id_b, c, d), columns=['id', 'C', 'D'])\n",
    "        \n",
    "    return df_a, df_b"
   ]
  },
  {
   "cell_type": "code",
   "execution_count": 2,
   "metadata": {},
   "outputs": [],
   "source": [
    "df_a, df_b = get_multiple_dfs(1000000)"
   ]
  },
  {
   "cell_type": "markdown",
   "metadata": {},
   "source": [
    "# Without instrumentation"
   ]
  },
  {
   "cell_type": "code",
   "execution_count": 3,
   "metadata": {},
   "outputs": [
    {
     "name": "stdout",
     "output_type": "stream",
     "text": [
      "CPU times: user 322 ms, sys: 70.6 ms, total: 392 ms\n",
      "Wall time: 392 ms\n"
     ]
    }
   ],
   "source": [
    "%%time\n",
    "test = df_a.merge(df_b, on='id')"
   ]
  },
  {
   "cell_type": "code",
   "execution_count": 4,
   "metadata": {},
   "outputs": [],
   "source": [
    "from mlinspect.inspections._lineage import LineageId, JoinLineageId\n",
    "\n",
    "lineage_id_list_a = [LineageId(0, row_id) for row_id in range(len(df_a))]\n",
    "lineage_ids_a = pd.DataFrame({\"RowLineage(10)\": pd.Series(lineage_id_list_a, dtype=\"object\")})\n",
    "lineage_id_list_b = [LineageId(0, row_id) for row_id in range(len(df_b))]\n",
    "lineage_ids_b = pd.DataFrame({\"RowLineage(10)\": pd.Series(lineage_id_list_b, dtype=\"object\")})"
   ]
  },
  {
   "cell_type": "code",
   "execution_count": 5,
   "metadata": {},
   "outputs": [],
   "source": [
    "from mlinspect.backends._pandas_backend import PandasBackend, execute_inspection_visits_join\n",
    "from mlinspect.backends._pandas_backend_frame_wrapper import MlinspectDataFrame\n",
    "from mlinspect.inspections import RowLineage\n",
    "from mlinspect.inspections._inspection_input import OperatorContext\n",
    "from mlinspect.instrumentation._dag_node import OperatorType, CodeReference\n",
    "\n",
    "pandas_backend = PandasBackend()\n",
    "pandas_backend.inspections = [RowLineage(10)]\n",
    "function_info = ('pandas.core.frame', 'merge')\n",
    "operator_context = OperatorContext(OperatorType.JOIN, function_info)\n",
    "code_reference = CodeReference(0,0,0,10)\n",
    "\n",
    "mlinspect_df_a = MlinspectDataFrame(df_a.copy())\n",
    "mlinspect_df_a.annotations = lineage_ids_a\n",
    "mlinspect_df_b = MlinspectDataFrame(df_b.copy())\n",
    "mlinspect_df_b.annotations = lineage_ids_b"
   ]
  },
  {
   "cell_type": "markdown",
   "metadata": {},
   "source": [
    "# With current instrumentation"
   ]
  },
  {
   "cell_type": "code",
   "execution_count": 40,
   "metadata": {},
   "outputs": [
    {
     "name": "stdout",
     "output_type": "stream",
     "text": [
      "CPU times: user 7.05 s, sys: 763 ms, total: 7.82 s\n",
      "Wall time: 7.85 s\n"
     ]
    }
   ],
   "source": [
    "%%time\n",
    "mlinspect_df_a['mlinspect_index_x'] = range(0, len(mlinspect_df_a))\n",
    "mlinspect_df_b['mlinspect_index_y'] = range(0, len(mlinspect_df_b))\n",
    "original_return_value = mlinspect_df_a.merge(mlinspect_df_b, on='id')\n",
    "\n",
    "\n",
    "return_value = execute_inspection_visits_join(pandas_backend, operator_context, code_reference,\n",
    "                                              mlinspect_df_a,\n",
    "                                              mlinspect_df_a.annotations,\n",
    "                                              mlinspect_df_b,\n",
    "                                              mlinspect_df_b.annotations,\n",
    "                                              original_return_value)\n",
    "\n",
    "# list(pandas_backend.dag_node_identifier_to_inspection_output.values())\n",
    "# return_value.annotations"
   ]
  },
  {
   "cell_type": "markdown",
   "metadata": {},
   "source": [
    "# Calculating directly using apply (apply is not a fast function)"
   ]
  },
  {
   "cell_type": "code",
   "execution_count": 13,
   "metadata": {},
   "outputs": [
    {
     "name": "stdout",
     "output_type": "stream",
     "text": [
      "CPU times: user 22.8 s, sys: 425 ms, total: 23.2 s\n",
      "Wall time: 23.3 s\n"
     ]
    }
   ],
   "source": [
    "%%time\n",
    "df_a['lineage_left'] = lineage_ids_a\n",
    "df_b['lineage_right'] = lineage_ids_b\n",
    "\n",
    "join_result = df_a.merge(df_b, on='id')\n",
    "\n",
    "join_result['annotations'] = join_result.apply(lambda row: JoinLineageId([row.lineage_left, row.lineage_right]), axis=1)\n",
    "join_result.drop('lineage_left', inplace=True, axis=1)\n",
    "join_result.drop('lineage_right', inplace=True, axis=1)\n",
    "dag_annotation = join_result.head(10)\n",
    "annotation = join_result.pop('annotations')\n",
    "\n",
    "# dag_annotation\n",
    "# annotation"
   ]
  },
  {
   "cell_type": "code",
   "execution_count": 35,
   "metadata": {},
   "outputs": [],
   "source": [
    "def lineage_iter(lineage_left, lineage_right):\n",
    "    zipped_lineage = zip(lineage_left, lineage_right)\n",
    "    join_ids_iter = map(lambda input_tuple: JoinLineageId([*input_tuple]), zipped_lineage)\n",
    "    return list(join_ids_iter)"
   ]
  },
  {
   "cell_type": "markdown",
   "metadata": {},
   "source": [
    "# Calculating directly using zip and map on numpy arrays"
   ]
  },
  {
   "cell_type": "code",
   "execution_count": 37,
   "metadata": {},
   "outputs": [
    {
     "name": "stdout",
     "output_type": "stream",
     "text": [
      "CPU times: user 6.13 s, sys: 242 ms, total: 6.37 s\n",
      "Wall time: 6.43 s\n"
     ]
    },
    {
     "data": {
      "text/plain": [
       "0         JoinLineageId(lineage_ids=[LineageId(operator_...\n",
       "1         JoinLineageId(lineage_ids=[LineageId(operator_...\n",
       "2         JoinLineageId(lineage_ids=[LineageId(operator_...\n",
       "3         JoinLineageId(lineage_ids=[LineageId(operator_...\n",
       "4         JoinLineageId(lineage_ids=[LineageId(operator_...\n",
       "                                ...                        \n",
       "999995    JoinLineageId(lineage_ids=[LineageId(operator_...\n",
       "999996    JoinLineageId(lineage_ids=[LineageId(operator_...\n",
       "999997    JoinLineageId(lineage_ids=[LineageId(operator_...\n",
       "999998    JoinLineageId(lineage_ids=[LineageId(operator_...\n",
       "999999    JoinLineageId(lineage_ids=[LineageId(operator_...\n",
       "Name: annotations, Length: 1000000, dtype: object"
      ]
     },
     "execution_count": 37,
     "metadata": {},
     "output_type": "execute_result"
    }
   ],
   "source": [
    "%%time\n",
    "df_a['lineage_left'] = lineage_ids_a\n",
    "df_b['lineage_right'] = lineage_ids_b\n",
    "\n",
    "join_result = df_a.merge(df_b, on='id')\n",
    "\n",
    "join_result['annotations'] = lineage_iter(join_result['lineage_left'].values, join_result['lineage_right'].values)\n",
    "join_result.drop('lineage_left', inplace=True, axis=1)\n",
    "join_result.drop('lineage_right', inplace=True, axis=1)\n",
    "dag_annotation = join_result.head(10)\n",
    "annotation = join_result.pop('annotations')\n",
    "\n",
    "# dag_annotation\n",
    "# annotation"
   ]
  },
  {
   "cell_type": "markdown",
   "metadata": {},
   "source": [
    "# Todos\n",
    "\n",
    "* Think about alternative lineage representation not using custom Python objects \n",
    "* Then try to find a pandas/numpy way to use this to benefit from vectorization\n",
    "* Test how fast this can be executed in other ways, e.g., with DuckDB"
   ]
  },
  {
   "cell_type": "code",
   "execution_count": null,
   "metadata": {},
   "outputs": [],
   "source": []
  }
 ],
 "metadata": {
  "kernelspec": {
   "display_name": "Python 3",
   "language": "python",
   "name": "python3"
  },
  "language_info": {
   "codemirror_mode": {
    "name": "ipython",
    "version": 3
   },
   "file_extension": ".py",
   "mimetype": "text/x-python",
   "name": "python",
   "nbconvert_exporter": "python",
   "pygments_lexer": "ipython3",
   "version": "3.8.7"
  }
 },
 "nbformat": 4,
 "nbformat_minor": 4
}
