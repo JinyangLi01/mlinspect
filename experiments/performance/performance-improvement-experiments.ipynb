{
 "cells": [
  {
   "cell_type": "code",
   "execution_count": 12,
   "metadata": {},
   "outputs": [],
   "source": [
    "import pandas as pd\n",
    "import numpy as np\n",
    "from numpy.random import randint, shuffle\n",
    "import random\n",
    "\n",
    "def get_multiple_dfs(data_frame_rows):\n",
    "    \"\"\"\n",
    "    Get a complete code str that creates a DF with random value\n",
    "    \"\"\"\n",
    "    sizes_before_join = int(data_frame_rows * 1.1)\n",
    "    start_with_offset = int(data_frame_rows * 0.1)\n",
    "    end_with_offset = start_with_offset + sizes_before_join\n",
    "    assert sizes_before_join - start_with_offset == data_frame_rows\n",
    "\n",
    "    id_a = np.arange(sizes_before_join)\n",
    "    shuffle(id_a)\n",
    "    a = randint(0,100,size=(sizes_before_join))\n",
    "    b = randint(0,100,size=(sizes_before_join))\n",
    "    categories = ['cat_a', 'cat_b', 'cat_c']\n",
    "    group_col_1 = pd.Series(random.choices(categories, k=sizes_before_join))\n",
    "    group_col_2 = pd.Series(random.choices(categories, k=sizes_before_join))\n",
    "    group_col_3 = pd.Series(random.choices(categories, k=sizes_before_join))\n",
    "\n",
    "    id_b = np.arange(start_with_offset, end_with_offset)\n",
    "    shuffle(id_b)\n",
    "    c = randint(0,100,size=(sizes_before_join)) \n",
    "    d = randint(0,100,size=(sizes_before_join))\n",
    "\n",
    "    df_a = pd.DataFrame(zip(id_a, a, b, group_col_1, group_col_2, group_col_3), columns=['id', 'A', 'B', \n",
    "        'group_col_1', 'group_col_2', 'group_col_3'])\n",
    "    df_b = pd.DataFrame(zip(id_b, c, d), columns=['id', 'C', 'D'])\n",
    "        \n",
    "    return df_a, df_b"
   ]
  },
  {
   "cell_type": "code",
   "execution_count": 42,
   "metadata": {},
   "outputs": [],
   "source": [
    "df_a, df_b = get_multiple_dfs(100000)"
   ]
  },
  {
   "cell_type": "markdown",
   "metadata": {},
   "source": [
    "# Without instrumentation"
   ]
  },
  {
   "cell_type": "code",
   "execution_count": 72,
   "metadata": {},
   "outputs": [
    {
     "name": "stdout",
     "output_type": "stream",
     "text": [
      "CPU times: user 29.2 ms, sys: 9.25 ms, total: 38.4 ms\n",
      "Wall time: 37.5 ms\n"
     ]
    }
   ],
   "source": [
    "%%time\n",
    "test = df_a.merge(df_b, on='id')"
   ]
  },
  {
   "cell_type": "code",
   "execution_count": 52,
   "metadata": {},
   "outputs": [],
   "source": [
    "from mlinspect.inspections._lineage import LineageId\n",
    "\n",
    "lineage_id_list_a = [LineageId(0, row_id) for row_id in range(len(df_a))]\n",
    "lineage_ids_a = pd.DataFrame({\"RowLineage(10)\": pd.Series(lineage_id_list_a, dtype=\"object\")})\n",
    "lineage_id_list_b = [LineageId(0, row_id) for row_id in range(len(df_b))]\n",
    "lineage_ids_b = pd.DataFrame({\"RowLineage(10)\": pd.Series(lineage_id_list_b, dtype=\"object\")})"
   ]
  },
  {
   "cell_type": "code",
   "execution_count": 59,
   "metadata": {},
   "outputs": [],
   "source": [
    "from mlinspect.backends._pandas_backend import PandasBackend, execute_inspection_visits_join\n",
    "from mlinspect.backends._pandas_backend_frame_wrapper import MlinspectDataFrame\n",
    "from mlinspect.inspections import RowLineage\n",
    "from mlinspect.inspections._inspection_input import OperatorContext\n",
    "from mlinspect.instrumentation._dag_node import OperatorType, CodeReference\n",
    "\n",
    "pandas_backend = PandasBackend()\n",
    "pandas_backend.inspections = [RowLineage(10)]\n",
    "function_info = ('pandas.core.frame', 'merge')\n",
    "operator_context = OperatorContext(OperatorType.JOIN, function_info)\n",
    "code_reference = CodeReference(0,0,0,10)\n",
    "\n",
    "df_a = MlinspectDataFrame(df_a)\n",
    "df_a.annotations = lineage_id_list_a\n",
    "df_b = MlinspectDataFrame(df_b)\n",
    "df_b.annotations = lineage_id_list_b"
   ]
  },
  {
   "cell_type": "markdown",
   "metadata": {},
   "source": [
    "# With current instrumentation"
   ]
  },
  {
   "cell_type": "code",
   "execution_count": 75,
   "metadata": {},
   "outputs": [
    {
     "name": "stdout",
     "output_type": "stream",
     "text": [
      "CPU times: user 1.07 s, sys: 56.1 ms, total: 1.12 s\n",
      "Wall time: 1.12 s\n"
     ]
    }
   ],
   "source": [
    "%%time\n",
    "df_a['mlinspect_index_x'] = range(0, len(df_a))\n",
    "df_b['mlinspect_index_y'] = range(0, len(df_b))\n",
    "original_return_value = df_a.merge(df_b, on='id')\n",
    "\n",
    "\n",
    "return_value = execute_inspection_visits_join(pandas_backend, operator_context, code_reference,\n",
    "                                              df_a,\n",
    "                                              lineage_ids_a,\n",
    "                                              df_b,\n",
    "                                              lineage_ids_b,\n",
    "                                              original_return_value)\n",
    "\n",
    "# list(pandas_backend.dag_node_identifier_to_inspection_output.values())\n",
    "# return_value"
   ]
  },
  {
   "cell_type": "code",
   "execution_count": null,
   "metadata": {},
   "outputs": [],
   "source": []
  },
  {
   "cell_type": "code",
   "execution_count": null,
   "metadata": {},
   "outputs": [],
   "source": []
  },
  {
   "cell_type": "code",
   "execution_count": null,
   "metadata": {},
   "outputs": [],
   "source": []
  }
 ],
 "metadata": {
  "kernelspec": {
   "display_name": "Python 3",
   "language": "python",
   "name": "python3"
  },
  "language_info": {
   "codemirror_mode": {
    "name": "ipython",
    "version": 3
   },
   "file_extension": ".py",
   "mimetype": "text/x-python",
   "name": "python",
   "nbconvert_exporter": "python",
   "pygments_lexer": "ipython3",
   "version": "3.8.7"
  }
 },
 "nbformat": 4,
 "nbformat_minor": 4
}
