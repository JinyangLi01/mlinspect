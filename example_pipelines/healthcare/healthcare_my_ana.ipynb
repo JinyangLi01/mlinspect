{
 "cells": [
  {
   "cell_type": "code",
   "execution_count": 52,
   "metadata": {
    "collapsed": true
   },
   "outputs": [],
   "source": [
    "\n",
    "\"\"\"Predicting which patients are at a higher risk of complications\"\"\"\n",
    "import warnings\n",
    "import os\n",
    "import pandas as pd\n",
    "from sklearn.compose import ColumnTransformer\n",
    "from sklearn.impute import SimpleImputer\n",
    "from sklearn.model_selection import train_test_split\n",
    "from sklearn.pipeline import Pipeline\n",
    "from sklearn.preprocessing import OneHotEncoder, StandardScaler\n",
    "from example_pipelines.healthcare.healthcare_utils import MyW2VTransformer, MyKerasClassifier, \\\n",
    "    create_model\n",
    "from mlinspect.utils import get_project_root\n",
    "\n"
   ]
  },
  {
   "cell_type": "markdown",
   "source": [
    "\n",
    "# Preprocessing\n"
   ],
   "metadata": {
    "collapsed": false,
    "pycharm": {
     "name": "#%% md\n"
    }
   }
  },
  {
   "cell_type": "markdown",
   "source": [
    "\n",
    "## adding labels\n"
   ],
   "metadata": {
    "collapsed": false,
    "pycharm": {
     "name": "#%% md\n"
    }
   }
  },
  {
   "cell_type": "code",
   "execution_count": 24,
   "outputs": [
    {
     "name": "stdout",
     "output_type": "stream",
     "text": [
      "len(patients) = 887, len(histories) = 887\n",
      "length after merging = 887\n",
      "   id  first_name last_name   race   county  num_children     income  \\\n",
      "0   1       Tabby      Ward  race3  county3             1  159027.00   \n",
      "1   4        Romy   Hawkins  race3  county1             0    8868.00   \n",
      "2   6       Cozmo     Frank  race1  county3             3  120171.75   \n",
      "3   8  Georgeanna     Frank  race1      NaN             2  220113.00   \n",
      "4  13        Pepe        Le  race1      NaN             4   87996.00   \n",
      "\n",
      "  age_group          ssn smoker  complications  \n",
      "0    group3  670-18-6875  False              2  \n",
      "1    group3  117-52-3454  False              1  \n",
      "2    group3  751-43-6257  False              2  \n",
      "3    group3  844-92-1943   True             10  \n",
      "4    group3  421-81-5857  False              1  \n"
     ]
    }
   ],
   "source": [
    "\n",
    "# FutureWarning: Sklearn 0.24 made a change that breaks remainder='drop', that change will be fixed\n",
    "#  in an upcoming version: https://github.com/scikit-learn/scikit-learn/pull/19263\n",
    "warnings.filterwarnings('ignore')\n",
    "\n",
    "COUNTIES_OF_INTEREST = ['county2', 'county3'] # domain: 1, 2, 3, 4\n",
    "\n",
    "patients = pd.read_csv(os.path.join(str(get_project_root()), \"example_pipelines\", \"healthcare\",\n",
    "                                    \"patients.csv\"), na_values='?')\n",
    "histories = pd.read_csv(os.path.join(str(get_project_root()), \"example_pipelines\", \"healthcare\",\n",
    "                                     \"histories.csv\"), na_values='?')\n",
    "print(\"len(patients) = {}, len(histories) = {}\".format(len(patients), len(histories)))\n",
    "\n",
    "data = patients.merge(histories, on=['ssn'])\n",
    "print(\"length after merging = {}\".format(len(data)))\n",
    "print(data[:5])\n",
    "data.to_csv(r\"patients_merged_w_histories.csv\", index=False)\n"
   ],
   "metadata": {
    "collapsed": false,
    "pycharm": {
     "name": "#%%\n"
    }
   }
  },
  {
   "cell_type": "code",
   "execution_count": 53,
   "outputs": [
    {
     "data": {
      "text/plain": "           mean_complications\nage_group                    \ngroup1               5.206406\ngroup2               4.959732\ngroup3               5.269481",
      "text/html": "<div>\n<style scoped>\n    .dataframe tbody tr th:only-of-type {\n        vertical-align: middle;\n    }\n\n    .dataframe tbody tr th {\n        vertical-align: top;\n    }\n\n    .dataframe thead th {\n        text-align: right;\n    }\n</style>\n<table border=\"1\" class=\"dataframe\">\n  <thead>\n    <tr style=\"text-align: right;\">\n      <th></th>\n      <th>mean_complications</th>\n    </tr>\n    <tr>\n      <th>age_group</th>\n      <th></th>\n    </tr>\n  </thead>\n  <tbody>\n    <tr>\n      <th>group1</th>\n      <td>5.206406</td>\n    </tr>\n    <tr>\n      <th>group2</th>\n      <td>4.959732</td>\n    </tr>\n    <tr>\n      <th>group3</th>\n      <td>5.269481</td>\n    </tr>\n  </tbody>\n</table>\n</div>"
     },
     "execution_count": 53,
     "metadata": {},
     "output_type": "execute_result"
    }
   ],
   "source": [
    "\n",
    "data = pd.read_csv(\"patients_merged_w_histories.csv\")\n",
    "\n",
    "complications = data.groupby('age_group') \\\n",
    "    .agg(mean_complications=('complications', 'mean'))\n",
    "\n",
    "complications"
   ],
   "metadata": {
    "collapsed": false,
    "pycharm": {
     "name": "#%%\n"
    }
   }
  },
  {
   "cell_type": "code",
   "execution_count": 54,
   "outputs": [
    {
     "data": {
      "text/plain": "   id  first_name last_name   race   county  num_children     income  \\\n0   1       Tabby      Ward  race3  county3             1  159027.00   \n1   4        Romy   Hawkins  race3  county1             0    8868.00   \n2   6       Cozmo     Frank  race1  county3             3  120171.75   \n3   8  Georgeanna     Frank  race1      NaN             2  220113.00   \n\n  age_group          ssn smoker  complications  mean_complications  \n0    group3  670-18-6875  False              2            5.269481  \n1    group3  117-52-3454  False              1            5.269481  \n2    group3  751-43-6257  False              2            5.269481  \n3    group3  844-92-1943   True             10            5.269481  ",
      "text/html": "<div>\n<style scoped>\n    .dataframe tbody tr th:only-of-type {\n        vertical-align: middle;\n    }\n\n    .dataframe tbody tr th {\n        vertical-align: top;\n    }\n\n    .dataframe thead th {\n        text-align: right;\n    }\n</style>\n<table border=\"1\" class=\"dataframe\">\n  <thead>\n    <tr style=\"text-align: right;\">\n      <th></th>\n      <th>id</th>\n      <th>first_name</th>\n      <th>last_name</th>\n      <th>race</th>\n      <th>county</th>\n      <th>num_children</th>\n      <th>income</th>\n      <th>age_group</th>\n      <th>ssn</th>\n      <th>smoker</th>\n      <th>complications</th>\n      <th>mean_complications</th>\n    </tr>\n  </thead>\n  <tbody>\n    <tr>\n      <th>0</th>\n      <td>1</td>\n      <td>Tabby</td>\n      <td>Ward</td>\n      <td>race3</td>\n      <td>county3</td>\n      <td>1</td>\n      <td>159027.00</td>\n      <td>group3</td>\n      <td>670-18-6875</td>\n      <td>False</td>\n      <td>2</td>\n      <td>5.269481</td>\n    </tr>\n    <tr>\n      <th>1</th>\n      <td>4</td>\n      <td>Romy</td>\n      <td>Hawkins</td>\n      <td>race3</td>\n      <td>county1</td>\n      <td>0</td>\n      <td>8868.00</td>\n      <td>group3</td>\n      <td>117-52-3454</td>\n      <td>False</td>\n      <td>1</td>\n      <td>5.269481</td>\n    </tr>\n    <tr>\n      <th>2</th>\n      <td>6</td>\n      <td>Cozmo</td>\n      <td>Frank</td>\n      <td>race1</td>\n      <td>county3</td>\n      <td>3</td>\n      <td>120171.75</td>\n      <td>group3</td>\n      <td>751-43-6257</td>\n      <td>False</td>\n      <td>2</td>\n      <td>5.269481</td>\n    </tr>\n    <tr>\n      <th>3</th>\n      <td>8</td>\n      <td>Georgeanna</td>\n      <td>Frank</td>\n      <td>race1</td>\n      <td>NaN</td>\n      <td>2</td>\n      <td>220113.00</td>\n      <td>group3</td>\n      <td>844-92-1943</td>\n      <td>True</td>\n      <td>10</td>\n      <td>5.269481</td>\n    </tr>\n  </tbody>\n</table>\n</div>"
     },
     "execution_count": 54,
     "metadata": {},
     "output_type": "execute_result"
    }
   ],
   "source": [
    "\n",
    "data = data.merge(complications, on=['age_group'])\n",
    "data[:4]\n",
    "\n"
   ],
   "metadata": {
    "collapsed": false,
    "pycharm": {
     "name": "#%%\n"
    }
   }
  },
  {
   "cell_type": "code",
   "execution_count": 55,
   "outputs": [
    {
     "name": "stdout",
     "output_type": "stream",
     "text": [
      "smoker\n",
      "False    464\n",
      "True     353\n",
      "dtype: int64\n",
      "county\n",
      "county1    259\n",
      "county2    154\n",
      "county3    136\n",
      "county4    155\n",
      "dtype: int64\n",
      "num_children\n",
      "0    155\n",
      "1    157\n",
      "2    156\n",
      "3    149\n",
      "4    146\n",
      "5    124\n",
      "dtype: int64\n",
      "race\n",
      "race1    284\n",
      "race2    232\n",
      "race3    276\n",
      "dtype: int64\n",
      "age_group\n",
      "group1    281\n",
      "group2    298\n",
      "group3    308\n",
      "dtype: int64\n",
      "complications\n",
      "0     76\n",
      "1     68\n",
      "2     87\n",
      "3     80\n",
      "4     57\n",
      "5     93\n",
      "6     90\n",
      "7     81\n",
      "8     86\n",
      "9     96\n",
      "10    73\n",
      "dtype: int64\n"
     ]
    },
    {
     "ename": "KeyError",
     "evalue": "'label'",
     "output_type": "error",
     "traceback": [
      "\u001B[0;31m---------------------------------------------------------------------------\u001B[0m",
      "\u001B[0;31mKeyError\u001B[0m                                  Traceback (most recent call last)",
      "\u001B[0;32m/var/folders/y1/vnpd8xm133v6hdbz8zf5wzsc0000gn/T/ipykernel_16325/3524398657.py\u001B[0m in \u001B[0;36m<module>\u001B[0;34m\u001B[0m\n\u001B[1;32m      1\u001B[0m \u001B[0;31m# groupby and size\u001B[0m\u001B[0;34m\u001B[0m\u001B[0;34m\u001B[0m\u001B[0m\n\u001B[1;32m      2\u001B[0m \u001B[0;32mfor\u001B[0m \u001B[0matt\u001B[0m \u001B[0;32min\u001B[0m \u001B[0;34m[\u001B[0m\u001B[0;34m'smoker'\u001B[0m\u001B[0;34m,\u001B[0m \u001B[0;34m'county'\u001B[0m\u001B[0;34m,\u001B[0m \u001B[0;34m'num_children'\u001B[0m\u001B[0;34m,\u001B[0m \u001B[0;34m'race'\u001B[0m\u001B[0;34m,\u001B[0m \u001B[0;34m'age_group'\u001B[0m\u001B[0;34m,\u001B[0m \u001B[0;34m'complications'\u001B[0m\u001B[0;34m,\u001B[0m \u001B[0;34m'label'\u001B[0m\u001B[0;34m]\u001B[0m\u001B[0;34m:\u001B[0m\u001B[0;34m\u001B[0m\u001B[0;34m\u001B[0m\u001B[0m\n\u001B[0;32m----> 3\u001B[0;31m     \u001B[0mprint\u001B[0m\u001B[0;34m(\u001B[0m\u001B[0mdata\u001B[0m\u001B[0;34m.\u001B[0m\u001B[0mgroupby\u001B[0m\u001B[0;34m(\u001B[0m\u001B[0matt\u001B[0m\u001B[0;34m)\u001B[0m\u001B[0;34m.\u001B[0m\u001B[0msize\u001B[0m\u001B[0;34m(\u001B[0m\u001B[0;34m)\u001B[0m\u001B[0;34m)\u001B[0m\u001B[0;34m\u001B[0m\u001B[0;34m\u001B[0m\u001B[0m\n\u001B[0m\u001B[1;32m      4\u001B[0m \u001B[0;34m\u001B[0m\u001B[0m\n\u001B[1;32m      5\u001B[0m \u001B[0;34m\u001B[0m\u001B[0m\n",
      "\u001B[0;32m~/Desktop/Project2/mlinspect_2/venv/lib/python3.9/site-packages/pandas/core/frame.py\u001B[0m in \u001B[0;36mgroupby\u001B[0;34m(self, by, axis, level, as_index, sort, group_keys, squeeze, observed, dropna)\u001B[0m\n\u001B[1;32m   6715\u001B[0m         \u001B[0maxis\u001B[0m \u001B[0;34m=\u001B[0m \u001B[0mself\u001B[0m\u001B[0;34m.\u001B[0m\u001B[0m_get_axis_number\u001B[0m\u001B[0;34m(\u001B[0m\u001B[0maxis\u001B[0m\u001B[0;34m)\u001B[0m\u001B[0;34m\u001B[0m\u001B[0;34m\u001B[0m\u001B[0m\n\u001B[1;32m   6716\u001B[0m \u001B[0;34m\u001B[0m\u001B[0m\n\u001B[0;32m-> 6717\u001B[0;31m         return DataFrameGroupBy(\n\u001B[0m\u001B[1;32m   6718\u001B[0m             \u001B[0mobj\u001B[0m\u001B[0;34m=\u001B[0m\u001B[0mself\u001B[0m\u001B[0;34m,\u001B[0m\u001B[0;34m\u001B[0m\u001B[0;34m\u001B[0m\u001B[0m\n\u001B[1;32m   6719\u001B[0m             \u001B[0mkeys\u001B[0m\u001B[0;34m=\u001B[0m\u001B[0mby\u001B[0m\u001B[0;34m,\u001B[0m\u001B[0;34m\u001B[0m\u001B[0;34m\u001B[0m\u001B[0m\n",
      "\u001B[0;32m~/Desktop/Project2/mlinspect_2/venv/lib/python3.9/site-packages/pandas/core/groupby/groupby.py\u001B[0m in \u001B[0;36m__init__\u001B[0;34m(self, obj, keys, axis, level, grouper, exclusions, selection, as_index, sort, group_keys, squeeze, observed, mutated, dropna)\u001B[0m\n\u001B[1;32m    558\u001B[0m             \u001B[0;32mfrom\u001B[0m \u001B[0mpandas\u001B[0m\u001B[0;34m.\u001B[0m\u001B[0mcore\u001B[0m\u001B[0;34m.\u001B[0m\u001B[0mgroupby\u001B[0m\u001B[0;34m.\u001B[0m\u001B[0mgrouper\u001B[0m \u001B[0;32mimport\u001B[0m \u001B[0mget_grouper\u001B[0m\u001B[0;34m\u001B[0m\u001B[0;34m\u001B[0m\u001B[0m\n\u001B[1;32m    559\u001B[0m \u001B[0;34m\u001B[0m\u001B[0m\n\u001B[0;32m--> 560\u001B[0;31m             grouper, exclusions, obj = get_grouper(\n\u001B[0m\u001B[1;32m    561\u001B[0m                 \u001B[0mobj\u001B[0m\u001B[0;34m,\u001B[0m\u001B[0;34m\u001B[0m\u001B[0;34m\u001B[0m\u001B[0m\n\u001B[1;32m    562\u001B[0m                 \u001B[0mkeys\u001B[0m\u001B[0;34m,\u001B[0m\u001B[0;34m\u001B[0m\u001B[0;34m\u001B[0m\u001B[0m\n",
      "\u001B[0;32m~/Desktop/Project2/mlinspect_2/venv/lib/python3.9/site-packages/pandas/core/groupby/grouper.py\u001B[0m in \u001B[0;36mget_grouper\u001B[0;34m(obj, key, axis, level, sort, observed, mutated, validate, dropna)\u001B[0m\n\u001B[1;32m    809\u001B[0m                 \u001B[0min_axis\u001B[0m\u001B[0;34m,\u001B[0m \u001B[0mname\u001B[0m\u001B[0;34m,\u001B[0m \u001B[0mlevel\u001B[0m\u001B[0;34m,\u001B[0m \u001B[0mgpr\u001B[0m \u001B[0;34m=\u001B[0m \u001B[0;32mFalse\u001B[0m\u001B[0;34m,\u001B[0m \u001B[0;32mNone\u001B[0m\u001B[0;34m,\u001B[0m \u001B[0mgpr\u001B[0m\u001B[0;34m,\u001B[0m \u001B[0;32mNone\u001B[0m\u001B[0;34m\u001B[0m\u001B[0;34m\u001B[0m\u001B[0m\n\u001B[1;32m    810\u001B[0m             \u001B[0;32melse\u001B[0m\u001B[0;34m:\u001B[0m\u001B[0;34m\u001B[0m\u001B[0;34m\u001B[0m\u001B[0m\n\u001B[0;32m--> 811\u001B[0;31m                 \u001B[0;32mraise\u001B[0m \u001B[0mKeyError\u001B[0m\u001B[0;34m(\u001B[0m\u001B[0mgpr\u001B[0m\u001B[0;34m)\u001B[0m\u001B[0;34m\u001B[0m\u001B[0;34m\u001B[0m\u001B[0m\n\u001B[0m\u001B[1;32m    812\u001B[0m         \u001B[0;32melif\u001B[0m \u001B[0misinstance\u001B[0m\u001B[0;34m(\u001B[0m\u001B[0mgpr\u001B[0m\u001B[0;34m,\u001B[0m \u001B[0mGrouper\u001B[0m\u001B[0;34m)\u001B[0m \u001B[0;32mand\u001B[0m \u001B[0mgpr\u001B[0m\u001B[0;34m.\u001B[0m\u001B[0mkey\u001B[0m \u001B[0;32mis\u001B[0m \u001B[0;32mnot\u001B[0m \u001B[0;32mNone\u001B[0m\u001B[0;34m:\u001B[0m\u001B[0;34m\u001B[0m\u001B[0;34m\u001B[0m\u001B[0m\n\u001B[1;32m    813\u001B[0m             \u001B[0;31m# Add key to exclusions\u001B[0m\u001B[0;34m\u001B[0m\u001B[0;34m\u001B[0m\u001B[0m\n",
      "\u001B[0;31mKeyError\u001B[0m: 'label'"
     ]
    }
   ],
   "source": [
    "\n",
    "# groupby and size\n",
    "for att in ['smoker', 'county', 'num_children', 'race', 'age_group', 'complications', 'label']:\n",
    "    print(data.groupby(att).size())\n",
    "\n"
   ],
   "metadata": {
    "collapsed": false,
    "pycharm": {
     "name": "#%%\n"
    }
   }
  },
  {
   "cell_type": "code",
   "execution_count": 56,
   "outputs": [
    {
     "data": {
      "text/plain": "   id  first_name  last_name   race   county  num_children     income  \\\n0   1       Tabby       Ward  race3  county3             1  159027.00   \n1   4        Romy    Hawkins  race3  county1             0    8868.00   \n2   6       Cozmo      Frank  race1  county3             3  120171.75   \n3   8  Georgeanna      Frank  race1      NaN             2  220113.00   \n4  13        Pepe         Le  race1      NaN             4   87996.00   \n5  17     Devonna    Elliott    NaN  county4             3  121710.00   \n6  18      Kelcie    Hawkins    NaN  county1             2  352186.50   \n7  21       Brady     Watson  race2      NaN             1   12029.25   \n8  25      Munroe  Cervantes  race1  county4             4  333417.00   \n\n  age_group          ssn smoker  complications  mean_complications  label  \n0    group3  670-18-6875  False              2            5.269481  False  \n1    group3  117-52-3454  False              1            5.269481  False  \n2    group3  751-43-6257  False              2            5.269481  False  \n3    group3  844-92-1943   True             10            5.269481   True  \n4    group3  421-81-5857  False              1            5.269481  False  \n5    group3  527-20-0150  False              5            5.269481  False  \n6    group3  709-91-9697   True              8            5.269481   True  \n7    group3  582-90-4020  False              3            5.269481  False  \n8    group3  551-10-6630    NaN              9            5.269481   True  ",
      "text/html": "<div>\n<style scoped>\n    .dataframe tbody tr th:only-of-type {\n        vertical-align: middle;\n    }\n\n    .dataframe tbody tr th {\n        vertical-align: top;\n    }\n\n    .dataframe thead th {\n        text-align: right;\n    }\n</style>\n<table border=\"1\" class=\"dataframe\">\n  <thead>\n    <tr style=\"text-align: right;\">\n      <th></th>\n      <th>id</th>\n      <th>first_name</th>\n      <th>last_name</th>\n      <th>race</th>\n      <th>county</th>\n      <th>num_children</th>\n      <th>income</th>\n      <th>age_group</th>\n      <th>ssn</th>\n      <th>smoker</th>\n      <th>complications</th>\n      <th>mean_complications</th>\n      <th>label</th>\n    </tr>\n  </thead>\n  <tbody>\n    <tr>\n      <th>0</th>\n      <td>1</td>\n      <td>Tabby</td>\n      <td>Ward</td>\n      <td>race3</td>\n      <td>county3</td>\n      <td>1</td>\n      <td>159027.00</td>\n      <td>group3</td>\n      <td>670-18-6875</td>\n      <td>False</td>\n      <td>2</td>\n      <td>5.269481</td>\n      <td>False</td>\n    </tr>\n    <tr>\n      <th>1</th>\n      <td>4</td>\n      <td>Romy</td>\n      <td>Hawkins</td>\n      <td>race3</td>\n      <td>county1</td>\n      <td>0</td>\n      <td>8868.00</td>\n      <td>group3</td>\n      <td>117-52-3454</td>\n      <td>False</td>\n      <td>1</td>\n      <td>5.269481</td>\n      <td>False</td>\n    </tr>\n    <tr>\n      <th>2</th>\n      <td>6</td>\n      <td>Cozmo</td>\n      <td>Frank</td>\n      <td>race1</td>\n      <td>county3</td>\n      <td>3</td>\n      <td>120171.75</td>\n      <td>group3</td>\n      <td>751-43-6257</td>\n      <td>False</td>\n      <td>2</td>\n      <td>5.269481</td>\n      <td>False</td>\n    </tr>\n    <tr>\n      <th>3</th>\n      <td>8</td>\n      <td>Georgeanna</td>\n      <td>Frank</td>\n      <td>race1</td>\n      <td>NaN</td>\n      <td>2</td>\n      <td>220113.00</td>\n      <td>group3</td>\n      <td>844-92-1943</td>\n      <td>True</td>\n      <td>10</td>\n      <td>5.269481</td>\n      <td>True</td>\n    </tr>\n    <tr>\n      <th>4</th>\n      <td>13</td>\n      <td>Pepe</td>\n      <td>Le</td>\n      <td>race1</td>\n      <td>NaN</td>\n      <td>4</td>\n      <td>87996.00</td>\n      <td>group3</td>\n      <td>421-81-5857</td>\n      <td>False</td>\n      <td>1</td>\n      <td>5.269481</td>\n      <td>False</td>\n    </tr>\n    <tr>\n      <th>5</th>\n      <td>17</td>\n      <td>Devonna</td>\n      <td>Elliott</td>\n      <td>NaN</td>\n      <td>county4</td>\n      <td>3</td>\n      <td>121710.00</td>\n      <td>group3</td>\n      <td>527-20-0150</td>\n      <td>False</td>\n      <td>5</td>\n      <td>5.269481</td>\n      <td>False</td>\n    </tr>\n    <tr>\n      <th>6</th>\n      <td>18</td>\n      <td>Kelcie</td>\n      <td>Hawkins</td>\n      <td>NaN</td>\n      <td>county1</td>\n      <td>2</td>\n      <td>352186.50</td>\n      <td>group3</td>\n      <td>709-91-9697</td>\n      <td>True</td>\n      <td>8</td>\n      <td>5.269481</td>\n      <td>True</td>\n    </tr>\n    <tr>\n      <th>7</th>\n      <td>21</td>\n      <td>Brady</td>\n      <td>Watson</td>\n      <td>race2</td>\n      <td>NaN</td>\n      <td>1</td>\n      <td>12029.25</td>\n      <td>group3</td>\n      <td>582-90-4020</td>\n      <td>False</td>\n      <td>3</td>\n      <td>5.269481</td>\n      <td>False</td>\n    </tr>\n    <tr>\n      <th>8</th>\n      <td>25</td>\n      <td>Munroe</td>\n      <td>Cervantes</td>\n      <td>race1</td>\n      <td>county4</td>\n      <td>4</td>\n      <td>333417.00</td>\n      <td>group3</td>\n      <td>551-10-6630</td>\n      <td>NaN</td>\n      <td>9</td>\n      <td>5.269481</td>\n      <td>True</td>\n    </tr>\n  </tbody>\n</table>\n</div>"
     },
     "execution_count": 56,
     "metadata": {},
     "output_type": "execute_result"
    }
   ],
   "source": [
    "\n",
    "data['label'] = data['complications'] > 1.2 * data['mean_complications']\n",
    "data[:9]\n",
    "\n"
   ],
   "metadata": {
    "collapsed": false,
    "pycharm": {
     "name": "#%%\n"
    }
   }
  },
  {
   "cell_type": "markdown",
   "source": [
    "## selection based on county\n"
   ],
   "metadata": {
    "collapsed": false,
    "pycharm": {
     "name": "#%% md\n"
    }
   }
  },
  {
   "cell_type": "code",
   "execution_count": 21,
   "outputs": [
    {
     "name": "stdout",
     "output_type": "stream",
     "text": [
      "290\n",
      "   smoker  last_name   county  num_children   race     income  label\n",
      "0   False       Ward  county3             1  race3  159027.00  False\n",
      "2   False      Frank  county3             3  race1  120171.75  False\n",
      "9    True  Wilkerson  county2             1  race1  241864.50   True\n",
      "14   True    Hawkins  county3             4  race1  207534.00   True\n",
      "15  False  Wilkerson  county2             1  race1  153892.50  False\n"
     ]
    }
   ],
   "source": [
    "\n",
    "# attributes used in training\n",
    "# not used in my pipeline analysis\n",
    "data = data[['smoker', 'last_name', 'county', 'num_children', 'race', 'income', 'label']]\n",
    "data = data[data['county'].isin(COUNTIES_OF_INTEREST)]\n",
    "print(len(data))\n",
    "print(data[:5])\n",
    "data.to_csv(r\"data_after_pipeline_for_training.csv\", index=False)\n"
   ],
   "metadata": {
    "collapsed": false,
    "pycharm": {
     "name": "#%%\n"
    }
   }
  },
  {
   "cell_type": "code",
   "execution_count": 57,
   "outputs": [],
   "source": [
    "\n",
    "data = data[['smoker', 'county', 'num_children', 'race', 'income', 'age_group', 'complications', 'label']]\n",
    "data.to_csv(r\"before_selection.csv\", index=False)\n",
    "\n"
   ],
   "metadata": {
    "collapsed": false,
    "pycharm": {
     "name": "#%%\n"
    }
   }
  },
  {
   "cell_type": "code",
   "execution_count": null,
   "outputs": [],
   "source": [
    "\n",
    "# full attributes used in training\n",
    "# this will be used in my analysis\n",
    "data = data[['smoker', 'last_name', 'county', 'num_children', 'race', 'income', 'age_group', 'complications', 'label']]\n",
    "data = data[data['county'].isin(COUNTIES_OF_INTEREST)]\n",
    "print(len(data))\n",
    "print(data[:5])\n",
    "data.to_csv(r\"data_after_pipeline_full_attributes.csv\", index=False)\n"
   ],
   "metadata": {
    "collapsed": false,
    "pycharm": {
     "name": "#%%\n"
    }
   }
  },
  {
   "cell_type": "markdown",
   "source": [
    "## analyze attributes\n"
   ],
   "metadata": {
    "collapsed": false,
    "pycharm": {
     "name": "#%% md\n"
    }
   }
  },
  {
   "cell_type": "code",
   "execution_count": 61,
   "outputs": [
    {
     "data": {
      "text/plain": "race\nrace1    171\nrace2    138\nrace3    186\ndtype: int64"
     },
     "execution_count": 61,
     "metadata": {},
     "output_type": "execute_result"
    }
   ],
   "source": [
    "data=pd.read_csv(r\"before_selection.csv\")\n",
    "\n",
    "COUNTIES_OF_INTEREST = ['county1', 'county2', 'county3'] # domain: 1, 2, 3, 4\n",
    "\n",
    "data = data[data['county'].isin(COUNTIES_OF_INTEREST)]\n",
    "data.groupby('race').size()\n",
    "\n",
    "# full_attributes = ['smoker', 'county', 'num_children', 'race', 'age_group', 'complications', 'label'] # without names, income\n",
    "# for att in full_attributes:\n",
    "#     print(\"group by {}\".format(att))\n",
    "#     print(data.groupby(att).size())\n"
   ],
   "metadata": {
    "collapsed": false,
    "pycharm": {
     "name": "#%%\n"
    }
   }
  },
  {
   "cell_type": "code",
   "execution_count": 62,
   "outputs": [
    {
     "data": {
      "text/plain": "race\nrace1    170\nrace2    151\nrace3     66\ndtype: int64"
     },
     "execution_count": 62,
     "metadata": {},
     "output_type": "execute_result"
    }
   ],
   "source": [
    "data=pd.read_csv(r\"before_selection.csv\")\n",
    "COUNTIES_OF_INTEREST = ['county2', 'county3', 'county4'] # domain: 1, 2, 3, 4\n",
    "\n",
    "data = data[data['county'].isin(COUNTIES_OF_INTEREST)]\n",
    "data.groupby('race').size()\n",
    "\n"
   ],
   "metadata": {
    "collapsed": false,
    "pycharm": {
     "name": "#%%\n"
    }
   }
  },
  {
   "cell_type": "raw",
   "source": [
    "county domain: county1, 2, 3, 4\n",
    "after only selecting county2, county3\n",
    "race3 only has 39\n"
   ],
   "metadata": {
    "collapsed": false,
    "pycharm": {
     "name": "#%% raw\n"
    }
   }
  },
  {
   "cell_type": "markdown",
   "source": [
    "\n",
    "\n",
    "## imputation and training\n"
   ],
   "metadata": {
    "collapsed": false,
    "pycharm": {
     "name": "#%% md\n"
    }
   }
  },
  {
   "cell_type": "code",
   "execution_count": null,
   "outputs": [],
   "source": [
    "\n",
    "impute_and_one_hot_encode = Pipeline([\n",
    "    ('impute', SimpleImputer(strategy='most_frequent')),\n",
    "    ('encode', OneHotEncoder(sparse=False, handle_unknown='ignore'))\n",
    "])\n",
    "featurisation = ColumnTransformer(transformers=[\n",
    "    (\"impute_and_one_hot_encode\", impute_and_one_hot_encode, ['smoker', 'county', 'race']),\n",
    "    ('word2vec', MyW2VTransformer(min_count=2), ['last_name']),\n",
    "    ('numeric', StandardScaler(), ['num_children', 'income']),\n",
    "], remainder='drop')\n",
    "neural_net = MyKerasClassifier(build_fn=create_model, epochs=10, batch_size=1, verbose=0)\n",
    "pipeline = Pipeline([\n",
    "    ('features', featurisation),\n",
    "    ('learner', neural_net)])\n",
    "\n",
    "train_data, test_data = train_test_split(data)\n",
    "model = pipeline.fit(train_data, train_data['label'])\n",
    "print(\"Mean accuracy: {}\".format(model.score(test_data, test_data['label'])))"
   ],
   "metadata": {
    "collapsed": false,
    "pycharm": {
     "name": "#%%\n"
    }
   }
  },
  {
   "cell_type": "code",
   "execution_count": null,
   "outputs": [],
   "source": [],
   "metadata": {
    "collapsed": false,
    "pycharm": {
     "name": "#%%\n"
    }
   }
  }
 ],
 "metadata": {
  "kernelspec": {
   "display_name": "Python 3",
   "language": "python",
   "name": "python3"
  },
  "language_info": {
   "codemirror_mode": {
    "name": "ipython",
    "version": 2
   },
   "file_extension": ".py",
   "mimetype": "text/x-python",
   "name": "python",
   "nbconvert_exporter": "python",
   "pygments_lexer": "ipython2",
   "version": "2.7.6"
  }
 },
 "nbformat": 4,
 "nbformat_minor": 0
}